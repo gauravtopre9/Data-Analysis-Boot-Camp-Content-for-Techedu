{
 "cells": [
  {
   "attachments": {
    "wimage.jpeg.jpeg": {
     "image/jpeg": "[encoded data removed]"
    }
   },
   "cell_type": "markdown",
   "id": "80de07d1",
   "metadata": {},
   "source": [
    "![wimage.jpeg.jpeg](attachment:wimage.jpeg.jpeg)"
   ]
  },
  {
   "cell_type": "markdown",
   "id": "49dbedd4",
   "metadata": {},
   "source": [
    "# Python Collections (Arrays)\n",
    "\n",
    "There are four collection data types in the Python programming language:\n",
    "\n",
    "- List is a collection which is ordered and changeable. Allows duplicate members.\n",
    "- Tuple is a collection which is ordered and unchangeable. Allows duplicate members.\n",
    "- Set is a collection which is unordered, unchangeable*, and unindexed. No duplicate members.\n",
    "- Dictionary is a collection which is ordered** and changeable. No duplicate members."
   ]
  },
  {
   "cell_type": "markdown",
   "id": "7edad691",
   "metadata": {},
   "source": [
    "# Tuples"
   ]
  },
  {
   "cell_type": "markdown",
   "id": "55ea0b15",
   "metadata": {},
   "source": [
    "**Tuples are used to store multiple items in a single variable.**\n",
    "\n",
    "**Tuple is one of 4 built-in data types in Python used to store collections of data, the other 3 are List, Set, and Dictionary, all with different qualities and usage.**\n",
    "\n",
    "- A tuple is a collection which is ordered and unchangeable.\n",
    "\n",
    "- Tuples are written with round brackets."
   ]
  },
  {
   "cell_type": "code",
   "execution_count": 3,
   "id": "4cbd4f11",
   "metadata": {},
   "outputs": [
    {
     "name": "stdout",
     "output_type": "stream",
     "text": [
      "<class 'tuple'>\n",
      "('item1', 'item2', 'item3')\n"
     ]
    }
   ],
   "source": [
    "tup0 = ('item1','item2','item3')\n",
    "print(type(tup0))\n",
    "print(tup0)"
   ]
  },
  {
   "cell_type": "code",
   "execution_count": 1,
   "id": "31e5976f",
   "metadata": {},
   "outputs": [
    {
     "name": "stdout",
     "output_type": "stream",
     "text": [
      "('student1', 'student2', 'student3')\n"
     ]
    }
   ],
   "source": [
    "tup1 = ('student1','student2','student3')\n",
    "print(tup1)"
   ]
  },
  {
   "cell_type": "markdown",
   "id": "41cef2b3",
   "metadata": {},
   "source": [
    "### Tuple Items"
   ]
  },
  {
   "cell_type": "markdown",
   "id": "354daa05",
   "metadata": {},
   "source": [
    "Tuple items are ordered, unchangeable, and allow duplicate values.\n",
    "\n",
    "Tuple items are indexed, the first item has index [0], the second item has index [1] etc."
   ]
  },
  {
   "cell_type": "markdown",
   "id": "59120a7b",
   "metadata": {},
   "source": [
    "- **Ordered** : When we say that tuples are ordered, it means that the items have a defined order, and that order will not change.\n",
    "\n",
    "- **Unchangeable**: Tuples are unchangeable, meaning that we cannot change, add or remove items after the tuple has been created.\n",
    "\n",
    "- **Allow Duplicates** : Since tuples are indexed, they can have items with the same value"
   ]
  },
  {
   "cell_type": "code",
   "execution_count": 5,
   "id": "d4faa315",
   "metadata": {},
   "outputs": [
    {
     "name": "stdout",
     "output_type": "stream",
     "text": [
      "('student1', 'student2', 'student3', 'student1')\n",
      "<class 'tuple'>\n"
     ]
    }
   ],
   "source": [
    "tup1 = ('student1','student2','student3','student1')\n",
    "print(tup1)\n",
    "print(type(tup1))"
   ]
  },
  {
   "cell_type": "markdown",
   "id": "85d41633",
   "metadata": {},
   "source": [
    "### Tuple Length\n"
   ]
  },
  {
   "cell_type": "markdown",
   "id": "ab556e02",
   "metadata": {},
   "source": [
    "To determine how many items a tuple has, use the **len()** function"
   ]
  },
  {
   "cell_type": "code",
   "execution_count": 6,
   "id": "f43b522c",
   "metadata": {},
   "outputs": [
    {
     "name": "stdout",
     "output_type": "stream",
     "text": [
      "4\n"
     ]
    }
   ],
   "source": [
    "print(len(tup1))"
   ]
  },
  {
   "cell_type": "markdown",
   "id": "06bf3475",
   "metadata": {},
   "source": [
    "### Tuple with only one Item"
   ]
  },
  {
   "cell_type": "code",
   "execution_count": 11,
   "id": "5728f3bd",
   "metadata": {},
   "outputs": [
    {
     "name": "stdout",
     "output_type": "stream",
     "text": [
      "<class 'tuple'>\n",
      "('element1',)\n"
     ]
    }
   ],
   "source": [
    "list1 = ['element1']\n",
    "type(list1)\n",
    "\n",
    "tuple1 = ('element1',)\n",
    "print(type(tuple1))\n",
    "print(tuple1)"
   ]
  },
  {
   "cell_type": "code",
   "execution_count": 4,
   "id": "d097200c",
   "metadata": {},
   "outputs": [
    {
     "name": "stdout",
     "output_type": "stream",
     "text": [
      "<class 'tuple'>\n",
      "<class 'str'>\n"
     ]
    }
   ],
   "source": [
    "#this is correct format\n",
    "tup2 = ('item one',)\n",
    "print(type(tup2))\n",
    "\n",
    "#this is not correct\n",
    "tup3 = ('item one')\n",
    "print(type(tup3))"
   ]
  },
  {
   "cell_type": "markdown",
   "id": "5df1d96b",
   "metadata": {},
   "source": [
    "### Creating Tuple from other data type"
   ]
  },
  {
   "cell_type": "code",
   "execution_count": 5,
   "id": "82972bae",
   "metadata": {},
   "outputs": [],
   "source": [
    "tup4 = tuple(['one',2,3])\n",
    "tup5 = tuple([5])"
   ]
  },
  {
   "cell_type": "code",
   "execution_count": 17,
   "id": "157dc2a5",
   "metadata": {},
   "outputs": [
    {
     "name": "stdout",
     "output_type": "stream",
     "text": [
      "[1, 2, 3, 4, 5]\n"
     ]
    }
   ],
   "source": [
    "list1 = [1,2,3,4,5]\n",
    "type(list1)\n",
    "print(list1)"
   ]
  },
  {
   "cell_type": "code",
   "execution_count": 15,
   "id": "c8bafd49",
   "metadata": {},
   "outputs": [],
   "source": [
    "tuple2 = tuple(list1)"
   ]
  },
  {
   "cell_type": "code",
   "execution_count": 16,
   "id": "aedaadfa",
   "metadata": {},
   "outputs": [
    {
     "name": "stdout",
     "output_type": "stream",
     "text": [
      "(1, 2, 3, 4, 5)\n",
      "<class 'tuple'>\n"
     ]
    }
   ],
   "source": [
    "print(tuple2)\n",
    "print(type(tuple2))"
   ]
  },
  {
   "cell_type": "code",
   "execution_count": 6,
   "id": "a8c3a82a",
   "metadata": {},
   "outputs": [
    {
     "name": "stdout",
     "output_type": "stream",
     "text": [
      "('one', 2, 3)\n",
      "(5,)\n"
     ]
    }
   ],
   "source": [
    "print(tup4)\n",
    "print(tup5)"
   ]
  },
  {
   "cell_type": "markdown",
   "id": "ab074807",
   "metadata": {},
   "source": [
    "### We can access the elements of the tuples by using forward or reversed indexing.\n",
    "\n",
    "**We can also do slicing as we did in case of lists**"
   ]
  },
  {
   "cell_type": "code",
   "execution_count": 18,
   "id": "8c662993",
   "metadata": {},
   "outputs": [
    {
     "data": {
      "text/plain": [
       "('student1', 'student2', 'student3', 'student1')"
      ]
     },
     "execution_count": 18,
     "metadata": {},
     "output_type": "execute_result"
    }
   ],
   "source": [
    "tup1"
   ]
  },
  {
   "cell_type": "code",
   "execution_count": 20,
   "id": "6653b4ac",
   "metadata": {},
   "outputs": [
    {
     "data": {
      "text/plain": [
       "'student3'"
      ]
     },
     "execution_count": 20,
     "metadata": {},
     "output_type": "execute_result"
    }
   ],
   "source": [
    "tup1[2]\n",
    "tup1[-2]"
   ]
  },
  {
   "cell_type": "markdown",
   "id": "0ed9d28b",
   "metadata": {},
   "source": [
    "### UPDATING TUPLES"
   ]
  },
  {
   "cell_type": "markdown",
   "id": "c22d61e1",
   "metadata": {},
   "source": [
    "**1. Replacing the element**"
   ]
  },
  {
   "cell_type": "code",
   "execution_count": 21,
   "id": "d01da4af",
   "metadata": {},
   "outputs": [
    {
     "data": {
      "text/plain": [
       "('student1', 'student2', 'student3', 'student1')"
      ]
     },
     "execution_count": 21,
     "metadata": {},
     "output_type": "execute_result"
    }
   ],
   "source": [
    "tup1"
   ]
  },
  {
   "cell_type": "markdown",
   "id": "ba276993",
   "metadata": {},
   "source": [
    "**As Tuples are immutable, so to perform any change/update tuple you first need to convet that Tuple into a List and then we can update the list**"
   ]
  },
  {
   "cell_type": "code",
   "execution_count": 23,
   "id": "f3ca7e1e",
   "metadata": {},
   "outputs": [
    {
     "name": "stdout",
     "output_type": "stream",
     "text": [
      "['student1', 'student2', 'student3', 'student4']\n",
      "('student1', 'student2', 'student3', 'student4')\n"
     ]
    }
   ],
   "source": [
    "tup1 = list(tup1)\n",
    "tup1[3] = ('student4')\n",
    "print(tup1) #got printed as list\n",
    "tup1 = tuple(tup1)\n",
    "print(tup1) #got printed as tuple"
   ]
  },
  {
   "cell_type": "markdown",
   "id": "a8dd166a",
   "metadata": {},
   "source": [
    "**2. Add Items**"
   ]
  },
  {
   "cell_type": "markdown",
   "id": "42839f75",
   "metadata": {},
   "source": [
    "There are two methods of doing this:\n",
    "\n",
    "*a. By converting tuple to list*\n",
    "\n",
    "*b. By adding tuple to tuple*"
   ]
  },
  {
   "cell_type": "markdown",
   "id": "8993b073",
   "metadata": {},
   "source": [
    "> **1. By Converting Tuple to list**"
   ]
  },
  {
   "cell_type": "code",
   "execution_count": 24,
   "id": "87a6b9b4",
   "metadata": {},
   "outputs": [
    {
     "data": {
      "text/plain": [
       "('student1', 'student2', 'student3', 'student4')"
      ]
     },
     "execution_count": 24,
     "metadata": {},
     "output_type": "execute_result"
    }
   ],
   "source": [
    "tup1"
   ]
  },
  {
   "cell_type": "code",
   "execution_count": 25,
   "id": "4d788430",
   "metadata": {},
   "outputs": [
    {
     "name": "stdout",
     "output_type": "stream",
     "text": [
      "<class 'tuple'>\n",
      "('student1', 'student2', 'student3', 'student4', 'student5')\n"
     ]
    }
   ],
   "source": [
    "tup1 = list(tup1)\n",
    "tup1.append('student5')\n",
    "tup1 = tuple(tup1)\n",
    "print(type(tup1))\n",
    "print(tup1)"
   ]
  },
  {
   "cell_type": "code",
   "execution_count": 27,
   "id": "77bd1106",
   "metadata": {},
   "outputs": [
    {
     "data": {
      "text/plain": [
       "tuple"
      ]
     },
     "execution_count": 27,
     "metadata": {},
     "output_type": "execute_result"
    }
   ],
   "source": [
    "tup01 = (1,2,3,4,5)\n",
    "type(tup01)"
   ]
  },
  {
   "cell_type": "code",
   "execution_count": 29,
   "id": "a412753e",
   "metadata": {},
   "outputs": [
    {
     "data": {
      "text/plain": [
       "[1, 2, 3, 4, 5]"
      ]
     },
     "execution_count": 29,
     "metadata": {},
     "output_type": "execute_result"
    }
   ],
   "source": [
    "list_temp = list(tup01)\n",
    "list_temp"
   ]
  },
  {
   "cell_type": "code",
   "execution_count": 30,
   "id": "df4acf89",
   "metadata": {},
   "outputs": [],
   "source": [
    "list_temp.append(6)"
   ]
  },
  {
   "cell_type": "code",
   "execution_count": 31,
   "id": "48b9c44c",
   "metadata": {},
   "outputs": [
    {
     "data": {
      "text/plain": [
       "[1, 2, 3, 4, 5, 6]"
      ]
     },
     "execution_count": 31,
     "metadata": {},
     "output_type": "execute_result"
    }
   ],
   "source": [
    "list_temp"
   ]
  },
  {
   "cell_type": "code",
   "execution_count": 33,
   "id": "adb00a27",
   "metadata": {},
   "outputs": [
    {
     "data": {
      "text/plain": [
       "(1, 2, 3, 4, 5, 6)"
      ]
     },
     "execution_count": 33,
     "metadata": {},
     "output_type": "execute_result"
    }
   ],
   "source": [
    "tup01 = tuple(list_temp)\n",
    "tup01"
   ]
  },
  {
   "cell_type": "markdown",
   "id": "d3d79b40",
   "metadata": {},
   "source": [
    "> **By adding Tuple to Tuple**"
   ]
  },
  {
   "cell_type": "code",
   "execution_count": 34,
   "id": "f417c143",
   "metadata": {},
   "outputs": [
    {
     "data": {
      "text/plain": [
       "('student1', 'student2', 'student3', 'student4', 'student5')"
      ]
     },
     "execution_count": 34,
     "metadata": {},
     "output_type": "execute_result"
    }
   ],
   "source": [
    "tup1"
   ]
  },
  {
   "cell_type": "code",
   "execution_count": 35,
   "id": "db5c4d79",
   "metadata": {},
   "outputs": [
    {
     "name": "stdout",
     "output_type": "stream",
     "text": [
      "<class 'tuple'>\n",
      "('student1', 'student2', 'student3', 'student4', 'student5', 'student6')\n"
     ]
    }
   ],
   "source": [
    "tup_temp = ('student6',)\n",
    "tup1 = tup1 + tup_temp\n",
    "print(type(tup1))\n",
    "print(tup1)"
   ]
  },
  {
   "cell_type": "markdown",
   "id": "34c5fd09",
   "metadata": {},
   "source": [
    "**3. Removing element**"
   ]
  },
  {
   "cell_type": "markdown",
   "id": "9874d9e6",
   "metadata": {},
   "source": [
    "**we can do this by converting tuple to list only**\n",
    "\n",
    "Try this at your end"
   ]
  },
  {
   "cell_type": "code",
   "execution_count": 36,
   "id": "b4fb6f4b",
   "metadata": {},
   "outputs": [
    {
     "name": "stdout",
     "output_type": "stream",
     "text": [
      "('student1', 'student2', 'student3', 'student4', 'student5')\n"
     ]
    }
   ],
   "source": [
    "tup1 = list(tup1)\n",
    "tup1.pop()\n",
    "tup1 = tuple(tup1)\n",
    "print(tup1)"
   ]
  },
  {
   "cell_type": "markdown",
   "id": "4fd2217c",
   "metadata": {},
   "source": [
    "---------------------------------------------------------------------------------------------------------------------------"
   ]
  },
  {
   "cell_type": "markdown",
   "id": "f5bb1ad6",
   "metadata": {},
   "source": [
    "# Set "
   ]
  },
  {
   "cell_type": "markdown",
   "id": "a976f404",
   "metadata": {},
   "source": [
    "**Sets are used to store multiple items in a single variable.**\n",
    "\n",
    "- Set is one of 4 built-in data types in Python used to store collections of data, the other 3 are List, Tuple, and Dictionary, all with different qualities and usage.\n",
    "\n",
    "- A set is a collection which is unordered, unchangeable*, and unindexed.\n",
    "\n",
    "- Sets are written with curly brackets.\n",
    "\n",
    "\n",
    "**Note**: Set items are unchangeable, but you can remove items and add new items."
   ]
  },
  {
   "cell_type": "code",
   "execution_count": 40,
   "id": "f80c2aac",
   "metadata": {},
   "outputs": [
    {
     "name": "stdout",
     "output_type": "stream",
     "text": [
      "<class 'set'>\n",
      "{'item2', 'item1', 'item3'}\n"
     ]
    }
   ],
   "source": [
    "set1 = {'item1','item2','item3'}\n",
    "print(type(set1))\n",
    "print(set1)"
   ]
  },
  {
   "cell_type": "markdown",
   "id": "97a5b698",
   "metadata": {},
   "source": [
    "### Set Items"
   ]
  },
  {
   "cell_type": "markdown",
   "id": "e8b50528",
   "metadata": {},
   "source": [
    "Set items are unordered, unchangeable, and do not allow duplicate values"
   ]
  },
  {
   "cell_type": "markdown",
   "id": "490b8d22",
   "metadata": {},
   "source": [
    "> **Unordered** \n",
    "- Unordered means that the items in a set do not have a defined order.\n",
    "\n",
    "- Set items can appear in a different order every time you use them, and cannot be referred to by index or key."
   ]
  },
  {
   "cell_type": "markdown",
   "id": "532bfb13",
   "metadata": {},
   "source": [
    "> **Unchangeable**\n",
    "- Set items are unchangeable, meaning that we cannot change the items after the set has been created."
   ]
  },
  {
   "cell_type": "markdown",
   "id": "8b0b920d",
   "metadata": {},
   "source": [
    "> **Duplicates Not Allowed**\n",
    "- Sets cannot have two items with the same value."
   ]
  },
  {
   "cell_type": "code",
   "execution_count": 41,
   "id": "2b8754eb",
   "metadata": {},
   "outputs": [],
   "source": [
    "set1 = {'item1','item2','item3','item1','item3'}"
   ]
  },
  {
   "cell_type": "code",
   "execution_count": 42,
   "id": "3b1a7b7d",
   "metadata": {},
   "outputs": [
    {
     "name": "stdout",
     "output_type": "stream",
     "text": [
      "{'item2', 'item1', 'item3'}\n"
     ]
    }
   ],
   "source": [
    "print(set1)"
   ]
  },
  {
   "cell_type": "code",
   "execution_count": 43,
   "id": "f56f0a20",
   "metadata": {},
   "outputs": [
    {
     "name": "stdout",
     "output_type": "stream",
     "text": [
      "[1, 2, 3, 1, 4, 3, 2]\n"
     ]
    }
   ],
   "source": [
    "L = [1,2,3,1,4,3,2]\n",
    "print(L)"
   ]
  },
  {
   "cell_type": "code",
   "execution_count": 46,
   "id": "3733a8ce",
   "metadata": {},
   "outputs": [
    {
     "data": {
      "text/plain": [
       "{1, 2, 3, 4}"
      ]
     },
     "execution_count": 46,
     "metadata": {},
     "output_type": "execute_result"
    }
   ],
   "source": [
    "set_temp = set(L)\n",
    "set_temp"
   ]
  },
  {
   "cell_type": "code",
   "execution_count": 47,
   "id": "31549390",
   "metadata": {},
   "outputs": [],
   "source": [
    "L = list(set_temp)"
   ]
  },
  {
   "cell_type": "code",
   "execution_count": 48,
   "id": "c970b36e",
   "metadata": {},
   "outputs": [
    {
     "data": {
      "text/plain": [
       "[1, 2, 3, 4]"
      ]
     },
     "execution_count": 48,
     "metadata": {},
     "output_type": "execute_result"
    }
   ],
   "source": [
    "L"
   ]
  },
  {
   "cell_type": "markdown",
   "id": "5220a2da",
   "metadata": {},
   "source": [
    "### Adding Set Items"
   ]
  },
  {
   "cell_type": "markdown",
   "id": "c5b920f2",
   "metadata": {},
   "source": [
    "**Using Add Method**"
   ]
  },
  {
   "cell_type": "code",
   "execution_count": 49,
   "id": "7c925ba7",
   "metadata": {},
   "outputs": [
    {
     "data": {
      "text/plain": [
       "{'item1', 'item2', 'item3'}"
      ]
     },
     "execution_count": 49,
     "metadata": {},
     "output_type": "execute_result"
    }
   ],
   "source": [
    "set1"
   ]
  },
  {
   "cell_type": "code",
   "execution_count": 50,
   "id": "12982206",
   "metadata": {},
   "outputs": [],
   "source": [
    "set1.add('item4') # We will be using the set_name.add('Value')"
   ]
  },
  {
   "cell_type": "code",
   "execution_count": 51,
   "id": "6198fcc5",
   "metadata": {},
   "outputs": [
    {
     "name": "stdout",
     "output_type": "stream",
     "text": [
      "{'item2', 'item1', 'item4', 'item3'}\n"
     ]
    }
   ],
   "source": [
    "print(set1)"
   ]
  },
  {
   "cell_type": "markdown",
   "id": "84c4fb3d",
   "metadata": {},
   "source": [
    "**Updating Set with set**"
   ]
  },
  {
   "cell_type": "code",
   "execution_count": 56,
   "id": "40302660",
   "metadata": {},
   "outputs": [
    {
     "data": {
      "text/plain": [
       "set"
      ]
     },
     "execution_count": 56,
     "metadata": {},
     "output_type": "execute_result"
    }
   ],
   "source": [
    "set0 = {'Kio',}\n",
    "type(set0)"
   ]
  },
  {
   "cell_type": "code",
   "execution_count": 20,
   "id": "ef3d7fa2",
   "metadata": {},
   "outputs": [],
   "source": [
    "set_temp = {'item5',}\n",
    "set1.update(set_temp)"
   ]
  },
  {
   "cell_type": "code",
   "execution_count": 21,
   "id": "ae44c743",
   "metadata": {},
   "outputs": [
    {
     "data": {
      "text/plain": [
       "{'item1', 'item2', 'item3', 'item4', 'item5'}"
      ]
     },
     "execution_count": 21,
     "metadata": {},
     "output_type": "execute_result"
    }
   ],
   "source": [
    "set1"
   ]
  },
  {
   "cell_type": "markdown",
   "id": "65500b9a",
   "metadata": {},
   "source": [
    "# Dictionary\n",
    "\n",
    "Dictionaries are used to store data values in **key:value pairs**.\n",
    "\n",
    "A dictionary is a collection which is ordered*, changeable and do not allow duplicates."
   ]
  },
  {
   "cell_type": "code",
   "execution_count": 62,
   "id": "a0fdf467",
   "metadata": {},
   "outputs": [],
   "source": [
    "dict1 = {'student1':'BH01k45', 'student2':True, 'student3':[10,20,30,40,50]}"
   ]
  },
  {
   "cell_type": "code",
   "execution_count": 66,
   "id": "b2fb87d1",
   "metadata": {},
   "outputs": [],
   "source": [
    "#students = {'student1':{'Pan':'BH012','Marks':[10,45]},'student2':{'Pan':'BHh12','Marks':[10,45,80]}} "
   ]
  },
  {
   "cell_type": "code",
   "execution_count": 67,
   "id": "c9eacaf4",
   "metadata": {},
   "outputs": [],
   "source": [
    "#students"
   ]
  },
  {
   "cell_type": "code",
   "execution_count": 58,
   "id": "16165ee4",
   "metadata": {},
   "outputs": [
    {
     "data": {
      "text/plain": [
       "dict"
      ]
     },
     "execution_count": 58,
     "metadata": {},
     "output_type": "execute_result"
    }
   ],
   "source": [
    "type(dict1)"
   ]
  },
  {
   "cell_type": "code",
   "execution_count": 70,
   "id": "37e04390",
   "metadata": {},
   "outputs": [
    {
     "data": {
      "text/plain": [
       "[10, 20, 30, 40, 50]"
      ]
     },
     "execution_count": 70,
     "metadata": {},
     "output_type": "execute_result"
    }
   ],
   "source": [
    "dict1['student3']"
   ]
  },
  {
   "cell_type": "markdown",
   "id": "21ea86e4",
   "metadata": {},
   "source": [
    "# Ordered or Unordered?"
   ]
  },
  {
   "cell_type": "markdown",
   "id": "1aa04c41",
   "metadata": {},
   "source": [
    "When we say that dictionaries are ordered, it means that the items have a defined order, and that order will not change.\n",
    "\n",
    "Unordered means that the items does not have a defined order, you cannot refer to an item by using an index."
   ]
  },
  {
   "cell_type": "code",
   "execution_count": 71,
   "id": "bf9cd5d5",
   "metadata": {},
   "outputs": [
    {
     "name": "stdout",
     "output_type": "stream",
     "text": [
      "3\n"
     ]
    }
   ],
   "source": [
    "print(len(dict1))"
   ]
  },
  {
   "cell_type": "markdown",
   "id": "d52a091f",
   "metadata": {},
   "source": [
    "## Accessing values"
   ]
  },
  {
   "cell_type": "code",
   "execution_count": 72,
   "id": "52c08420",
   "metadata": {},
   "outputs": [
    {
     "data": {
      "text/plain": [
       "{'student1': 'BH01k45', 'student2': True, 'student3': [10, 20, 30, 40, 50]}"
      ]
     },
     "execution_count": 72,
     "metadata": {},
     "output_type": "execute_result"
    }
   ],
   "source": [
    "dict1"
   ]
  },
  {
   "cell_type": "code",
   "execution_count": 73,
   "id": "b1efd2e9",
   "metadata": {},
   "outputs": [
    {
     "data": {
      "text/plain": [
       "True"
      ]
     },
     "execution_count": 73,
     "metadata": {},
     "output_type": "execute_result"
    }
   ],
   "source": [
    "dict1['student2']"
   ]
  },
  {
   "cell_type": "code",
   "execution_count": 74,
   "id": "25e2292b",
   "metadata": {},
   "outputs": [],
   "source": [
    "x = dict1.get('student3')"
   ]
  },
  {
   "cell_type": "code",
   "execution_count": 75,
   "id": "c134880a",
   "metadata": {},
   "outputs": [
    {
     "data": {
      "text/plain": [
       "[10, 20, 30, 40, 50]"
      ]
     },
     "execution_count": 75,
     "metadata": {},
     "output_type": "execute_result"
    }
   ],
   "source": [
    "x"
   ]
  },
  {
   "cell_type": "markdown",
   "id": "7fc62c7b",
   "metadata": {},
   "source": [
    "**If you wana know names of keys**"
   ]
  },
  {
   "cell_type": "code",
   "execution_count": 76,
   "id": "47699908",
   "metadata": {},
   "outputs": [
    {
     "data": {
      "text/plain": [
       "dict_keys(['student1', 'student2', 'student3'])"
      ]
     },
     "execution_count": 76,
     "metadata": {},
     "output_type": "execute_result"
    }
   ],
   "source": [
    "dict1.keys()"
   ]
  },
  {
   "cell_type": "markdown",
   "id": "51ac6ee5",
   "metadata": {},
   "source": [
    "## Change the value"
   ]
  },
  {
   "cell_type": "code",
   "execution_count": 77,
   "id": "5da9269e",
   "metadata": {},
   "outputs": [
    {
     "data": {
      "text/plain": [
       "{'student1': 'BH01k45', 'student2': True, 'student3': [10, 20, 30, 40, 50]}"
      ]
     },
     "execution_count": 77,
     "metadata": {},
     "output_type": "execute_result"
    }
   ],
   "source": [
    "dict1"
   ]
  },
  {
   "cell_type": "code",
   "execution_count": 78,
   "id": "6da5c105",
   "metadata": {},
   "outputs": [],
   "source": [
    "dict1['student2'] = False"
   ]
  },
  {
   "cell_type": "code",
   "execution_count": 79,
   "id": "bb284a78",
   "metadata": {},
   "outputs": [
    {
     "data": {
      "text/plain": [
       "{'student1': 'BH01k45', 'student2': False, 'student3': [10, 20, 30, 40, 50]}"
      ]
     },
     "execution_count": 79,
     "metadata": {},
     "output_type": "execute_result"
    }
   ],
   "source": [
    "dict1"
   ]
  },
  {
   "cell_type": "code",
   "execution_count": 80,
   "id": "f83489de",
   "metadata": {},
   "outputs": [],
   "source": [
    "dict1.update({'student3':[30,40]})"
   ]
  },
  {
   "cell_type": "code",
   "execution_count": 81,
   "id": "b49c747c",
   "metadata": {},
   "outputs": [
    {
     "data": {
      "text/plain": [
       "{'student1': 'BH01k45', 'student2': False, 'student3': [30, 40]}"
      ]
     },
     "execution_count": 81,
     "metadata": {},
     "output_type": "execute_result"
    }
   ],
   "source": [
    "dict1"
   ]
  },
  {
   "cell_type": "code",
   "execution_count": 82,
   "id": "5a9b9c52",
   "metadata": {},
   "outputs": [],
   "source": [
    "dict1.update({'student2':'on'})"
   ]
  },
  {
   "cell_type": "code",
   "execution_count": 83,
   "id": "18a664bd",
   "metadata": {},
   "outputs": [
    {
     "data": {
      "text/plain": [
       "{'student1': 'BH01k45', 'student2': 'on', 'student3': [30, 40]}"
      ]
     },
     "execution_count": 83,
     "metadata": {},
     "output_type": "execute_result"
    }
   ],
   "source": [
    "dict1\n"
   ]
  },
  {
   "cell_type": "markdown",
   "id": "951a0db3",
   "metadata": {},
   "source": [
    "## adding the key"
   ]
  },
  {
   "cell_type": "code",
   "execution_count": 90,
   "id": "829b410b",
   "metadata": {},
   "outputs": [],
   "source": [
    "dict1['student4'] = ''"
   ]
  },
  {
   "cell_type": "code",
   "execution_count": 91,
   "id": "49cf871c",
   "metadata": {},
   "outputs": [
    {
     "data": {
      "text/plain": [
       "{'student1': 'BH01k45', 'student2': 'on', 'student3': [30, 40], 'student4': ''}"
      ]
     },
     "execution_count": 91,
     "metadata": {},
     "output_type": "execute_result"
    }
   ],
   "source": [
    "dict1"
   ]
  },
  {
   "cell_type": "markdown",
   "id": "e379cb8b",
   "metadata": {},
   "source": [
    "## Removing the key"
   ]
  },
  {
   "cell_type": "code",
   "execution_count": 93,
   "id": "eaab535e",
   "metadata": {},
   "outputs": [
    {
     "data": {
      "text/plain": [
       "''"
      ]
     },
     "execution_count": 93,
     "metadata": {},
     "output_type": "execute_result"
    }
   ],
   "source": [
    "dict1.pop('student4')"
   ]
  },
  {
   "cell_type": "code",
   "execution_count": 94,
   "id": "6f7022e3",
   "metadata": {},
   "outputs": [
    {
     "data": {
      "text/plain": [
       "{'student1': 'BH01k45', 'student2': 'on', 'student3': [30, 40]}"
      ]
     },
     "execution_count": 94,
     "metadata": {},
     "output_type": "execute_result"
    }
   ],
   "source": [
    "dict1"
   ]
  },
  {
   "cell_type": "markdown",
   "id": "b26140fa",
   "metadata": {},
   "source": [
    "**popitem()**: this function will remove the last key:value pair"
   ]
  },
  {
   "cell_type": "code",
   "execution_count": 95,
   "id": "8c61a6be",
   "metadata": {},
   "outputs": [
    {
     "data": {
      "text/plain": [
       "('student3', [30, 40])"
      ]
     },
     "execution_count": 95,
     "metadata": {},
     "output_type": "execute_result"
    }
   ],
   "source": [
    "dict1.popitem()"
   ]
  },
  {
   "cell_type": "code",
   "execution_count": 96,
   "id": "35554f66",
   "metadata": {},
   "outputs": [
    {
     "data": {
      "text/plain": [
       "{'student1': 'BH01k45', 'student2': 'on'}"
      ]
     },
     "execution_count": 96,
     "metadata": {},
     "output_type": "execute_result"
    }
   ],
   "source": [
    "dict1"
   ]
  },
  {
   "cell_type": "code",
   "execution_count": 97,
   "id": "190a1986",
   "metadata": {},
   "outputs": [],
   "source": [
    "del dict1['student1']"
   ]
  },
  {
   "cell_type": "markdown",
   "id": "eccebd3d",
   "metadata": {},
   "source": [
    "use del before dict name"
   ]
  },
  {
   "cell_type": "code",
   "execution_count": 98,
   "id": "1096def0",
   "metadata": {},
   "outputs": [
    {
     "data": {
      "text/plain": [
       "{'student2': 'on'}"
      ]
     },
     "execution_count": 98,
     "metadata": {},
     "output_type": "execute_result"
    }
   ],
   "source": [
    "dict1"
   ]
  },
  {
   "cell_type": "markdown",
   "id": "4bd78e10",
   "metadata": {},
   "source": [
    "# Operators "
   ]
  },
  {
   "cell_type": "markdown",
   "id": "1e92cbd3",
   "metadata": {},
   "source": [
    "Python divides the operators in the following groups:\n",
    "\n",
    "- Arithmetic operators\n",
    "- Assignment operators\n",
    "- Comparison operators\n",
    "- Logical operators\n",
    "- Identity operators\n",
    "- Membership operators\n",
    "- Bitwise operators"
   ]
  },
  {
   "cell_type": "markdown",
   "id": "41b06598",
   "metadata": {},
   "source": [
    "### Python Arithmetic Operator\n",
    "\n",
    "Arithmetic operators are used with numeric values to perform common mathematical operations"
   ]
  },
  {
   "cell_type": "code",
   "execution_count": 99,
   "id": "2bae78b0",
   "metadata": {},
   "outputs": [
    {
     "data": {
      "text/plain": [
       "8"
      ]
     },
     "execution_count": 99,
     "metadata": {},
     "output_type": "execute_result"
    }
   ],
   "source": [
    "# addition (+)\n",
    "\n",
    "3+5"
   ]
  },
  {
   "cell_type": "code",
   "execution_count": 100,
   "id": "f3bc9749",
   "metadata": {},
   "outputs": [
    {
     "data": {
      "text/plain": [
       "22"
      ]
     },
     "execution_count": 100,
     "metadata": {},
     "output_type": "execute_result"
    }
   ],
   "source": [
    "# Substraction \n",
    "\n",
    "100-78"
   ]
  },
  {
   "cell_type": "code",
   "execution_count": 101,
   "id": "11a6cf7e",
   "metadata": {},
   "outputs": [
    {
     "data": {
      "text/plain": [
       "8"
      ]
     },
     "execution_count": 101,
     "metadata": {},
     "output_type": "execute_result"
    }
   ],
   "source": [
    "# Multiplication \n",
    "\n",
    "2*4"
   ]
  },
  {
   "cell_type": "code",
   "execution_count": 102,
   "id": "41db2bfa",
   "metadata": {},
   "outputs": [
    {
     "data": {
      "text/plain": [
       "10.0"
      ]
     },
     "execution_count": 102,
     "metadata": {},
     "output_type": "execute_result"
    }
   ],
   "source": [
    "# Division (/)\n",
    "\n",
    "70/7"
   ]
  },
  {
   "cell_type": "code",
   "execution_count": 105,
   "id": "7520840d",
   "metadata": {},
   "outputs": [
    {
     "data": {
      "text/plain": [
       "1"
      ]
     },
     "execution_count": 105,
     "metadata": {},
     "output_type": "execute_result"
    }
   ],
   "source": [
    "# Modulus\n",
    "\n",
    "5%2"
   ]
  },
  {
   "cell_type": "code",
   "execution_count": 109,
   "id": "7155fe03",
   "metadata": {},
   "outputs": [
    {
     "data": {
      "text/plain": [
       "4"
      ]
     },
     "execution_count": 109,
     "metadata": {},
     "output_type": "execute_result"
    }
   ],
   "source": [
    "54%5"
   ]
  },
  {
   "cell_type": "code",
   "execution_count": 107,
   "id": "c6d61627",
   "metadata": {},
   "outputs": [
    {
     "data": {
      "text/plain": [
       "1"
      ]
     },
     "execution_count": 107,
     "metadata": {},
     "output_type": "execute_result"
    }
   ],
   "source": [
    "100%3"
   ]
  },
  {
   "cell_type": "code",
   "execution_count": 111,
   "id": "0519e3a2",
   "metadata": {},
   "outputs": [
    {
     "data": {
      "text/plain": [
       "1"
      ]
     },
     "execution_count": 111,
     "metadata": {},
     "output_type": "execute_result"
    }
   ],
   "source": [
    "## Quotient (//)\n",
    "\n",
    "12//7"
   ]
  },
  {
   "cell_type": "code",
   "execution_count": 112,
   "id": "df362b99",
   "metadata": {},
   "outputs": [
    {
     "data": {
      "text/plain": [
       "8"
      ]
     },
     "execution_count": 112,
     "metadata": {},
     "output_type": "execute_result"
    }
   ],
   "source": [
    "## Exponent (**)\n",
    "\n",
    "2**3"
   ]
  },
  {
   "cell_type": "code",
   "execution_count": 113,
   "id": "c6310a56",
   "metadata": {},
   "outputs": [
    {
     "data": {
      "text/plain": [
       "1024"
      ]
     },
     "execution_count": 113,
     "metadata": {},
     "output_type": "execute_result"
    }
   ],
   "source": [
    "2**10"
   ]
  },
  {
   "cell_type": "markdown",
   "id": "9af80834",
   "metadata": {},
   "source": [
    "### Comparison Operator"
   ]
  },
  {
   "cell_type": "code",
   "execution_count": 116,
   "id": "eb5fb0be",
   "metadata": {},
   "outputs": [
    {
     "data": {
      "text/plain": [
       "True"
      ]
     },
     "execution_count": 116,
     "metadata": {},
     "output_type": "execute_result"
    }
   ],
   "source": [
    "## Equal (==)\n",
    "\n",
    "2 == 2"
   ]
  },
  {
   "cell_type": "code",
   "execution_count": 117,
   "id": "c9b2f8b2",
   "metadata": {},
   "outputs": [
    {
     "data": {
      "text/plain": [
       "False"
      ]
     },
     "execution_count": 117,
     "metadata": {},
     "output_type": "execute_result"
    }
   ],
   "source": [
    "3 == 5"
   ]
  },
  {
   "cell_type": "code",
   "execution_count": 119,
   "id": "0c3126e6",
   "metadata": {},
   "outputs": [
    {
     "data": {
      "text/plain": [
       "False"
      ]
     },
     "execution_count": 119,
     "metadata": {},
     "output_type": "execute_result"
    }
   ],
   "source": [
    "## Not Equal (!=)\n",
    "\n",
    "2 != 2"
   ]
  },
  {
   "cell_type": "code",
   "execution_count": 120,
   "id": "7bdd4d44",
   "metadata": {},
   "outputs": [
    {
     "data": {
      "text/plain": [
       "True"
      ]
     },
     "execution_count": 120,
     "metadata": {},
     "output_type": "execute_result"
    }
   ],
   "source": [
    "3 != 5"
   ]
  },
  {
   "cell_type": "code",
   "execution_count": 123,
   "id": "f80cd233",
   "metadata": {},
   "outputs": [
    {
     "data": {
      "text/plain": [
       "True"
      ]
     },
     "execution_count": 123,
     "metadata": {},
     "output_type": "execute_result"
    }
   ],
   "source": [
    "## Greater than (left val > Right Val)\n",
    "\n",
    "5 > 3"
   ]
  },
  {
   "cell_type": "code",
   "execution_count": 122,
   "id": "e2989d7d",
   "metadata": {},
   "outputs": [
    {
     "data": {
      "text/plain": [
       "False"
      ]
     },
     "execution_count": 122,
     "metadata": {},
     "output_type": "execute_result"
    }
   ],
   "source": [
    "5 > 6"
   ]
  },
  {
   "cell_type": "code",
   "execution_count": 124,
   "id": "a2846401",
   "metadata": {},
   "outputs": [
    {
     "data": {
      "text/plain": [
       "False"
      ]
     },
     "execution_count": 124,
     "metadata": {},
     "output_type": "execute_result"
    }
   ],
   "source": [
    "## Less than (left val < Right Val)\n",
    "\n",
    "5 < 3"
   ]
  },
  {
   "cell_type": "code",
   "execution_count": 127,
   "id": "e4b52c3f",
   "metadata": {},
   "outputs": [
    {
     "data": {
      "text/plain": [
       "False"
      ]
     },
     "execution_count": 127,
     "metadata": {},
     "output_type": "execute_result"
    }
   ],
   "source": [
    "5 < 5"
   ]
  },
  {
   "cell_type": "code",
   "execution_count": 125,
   "id": "b705214b",
   "metadata": {},
   "outputs": [
    {
     "data": {
      "text/plain": [
       "True"
      ]
     },
     "execution_count": 125,
     "metadata": {},
     "output_type": "execute_result"
    }
   ],
   "source": [
    "5 < 6"
   ]
  },
  {
   "cell_type": "code",
   "execution_count": 129,
   "id": "492f05ec",
   "metadata": {},
   "outputs": [
    {
     "data": {
      "text/plain": [
       "True"
      ]
     },
     "execution_count": 129,
     "metadata": {},
     "output_type": "execute_result"
    }
   ],
   "source": [
    "## Greater than Equal to (left val <= Right val )\n",
    "\n",
    "5 >= 5"
   ]
  },
  {
   "cell_type": "code",
   "execution_count": 131,
   "id": "f1c9af25",
   "metadata": {},
   "outputs": [
    {
     "data": {
      "text/plain": [
       "True"
      ]
     },
     "execution_count": 131,
     "metadata": {},
     "output_type": "execute_result"
    }
   ],
   "source": [
    "## Lesser than Equal to (left val >= Right val )\n",
    "\n",
    "3 <= 5"
   ]
  },
  {
   "cell_type": "markdown",
   "id": "9a8f7d46",
   "metadata": {},
   "source": [
    "### Logical Operators"
   ]
  },
  {
   "cell_type": "code",
   "execution_count": 135,
   "id": "a969418c",
   "metadata": {},
   "outputs": [
    {
     "data": {
      "text/plain": [
       "True"
      ]
     },
     "execution_count": 135,
     "metadata": {},
     "output_type": "execute_result"
    }
   ],
   "source": [
    "# and Operator (and) : If both the conditions are true then and then only output is true\n",
    "\n",
    "5<8 and 8<70"
   ]
  },
  {
   "cell_type": "code",
   "execution_count": 139,
   "id": "08bc8322",
   "metadata": {},
   "outputs": [
    {
     "data": {
      "text/plain": [
       "True"
      ]
     },
     "execution_count": 139,
     "metadata": {},
     "output_type": "execute_result"
    }
   ],
   "source": [
    "# Or operators (or): if one of the two condition is true then the output is true\n",
    "\n",
    "5<4 or 8<70"
   ]
  },
  {
   "cell_type": "code",
   "execution_count": 140,
   "id": "8e3c4038",
   "metadata": {},
   "outputs": [
    {
     "data": {
      "text/plain": [
       "True"
      ]
     },
     "execution_count": 140,
     "metadata": {},
     "output_type": "execute_result"
    }
   ],
   "source": [
    "5<8 or 8<70"
   ]
  },
  {
   "cell_type": "code",
   "execution_count": 141,
   "id": "517d3a99",
   "metadata": {},
   "outputs": [
    {
     "data": {
      "text/plain": [
       "False"
      ]
     },
     "execution_count": 141,
     "metadata": {},
     "output_type": "execute_result"
    }
   ],
   "source": [
    "5<3 or 8<7"
   ]
  },
  {
   "cell_type": "code",
   "execution_count": 143,
   "id": "866a03e8",
   "metadata": {},
   "outputs": [
    {
     "data": {
      "text/plain": [
       "True"
      ]
     },
     "execution_count": 143,
     "metadata": {},
     "output_type": "execute_result"
    }
   ],
   "source": [
    "# Not Operator (not) : reverses the result \n",
    "not(5<3 or 8<7)"
   ]
  },
  {
   "cell_type": "code",
   "execution_count": 144,
   "id": "75566a2a",
   "metadata": {},
   "outputs": [
    {
     "data": {
      "text/plain": [
       "False"
      ]
     },
     "execution_count": 144,
     "metadata": {},
     "output_type": "execute_result"
    }
   ],
   "source": [
    "not(5<8 or 8<70)"
   ]
  },
  {
   "cell_type": "markdown",
   "id": "11b97bbf",
   "metadata": {},
   "source": [
    "### Membership Operators"
   ]
  },
  {
   "cell_type": "code",
   "execution_count": 146,
   "id": "4d4305b3",
   "metadata": {},
   "outputs": [
    {
     "name": "stdout",
     "output_type": "stream",
     "text": [
      "False\n"
     ]
    }
   ],
   "source": [
    "# in : Check the presence or confirms the presence \n",
    "\n",
    "li = [1,2,3,4,5]\n",
    "\n",
    "print(8 in li)"
   ]
  },
  {
   "cell_type": "code",
   "execution_count": 148,
   "id": "2ed2c76e",
   "metadata": {},
   "outputs": [],
   "source": [
    "dict1['student3'] = 145"
   ]
  },
  {
   "cell_type": "code",
   "execution_count": 150,
   "id": "12cfa769",
   "metadata": {},
   "outputs": [],
   "source": [
    "x = dict1.keys()"
   ]
  },
  {
   "cell_type": "code",
   "execution_count": 152,
   "id": "28ce5e67",
   "metadata": {},
   "outputs": [
    {
     "name": "stdout",
     "output_type": "stream",
     "text": [
      "False\n"
     ]
    }
   ],
   "source": [
    "print('student7' in x)"
   ]
  },
  {
   "cell_type": "code",
   "execution_count": 154,
   "id": "141ba811",
   "metadata": {},
   "outputs": [
    {
     "name": "stdout",
     "output_type": "stream",
     "text": [
      "True\n"
     ]
    },
    {
     "name": "stderr",
     "output_type": "stream",
     "text": [
      "Exception in callback BaseSelectorEventLoop._read_from_self()\n",
      "handle: <Handle BaseSelectorEventLoop._read_from_self()>\n",
      "Traceback (most recent call last):\n",
      "  File \"F:\\Python 38\\lib\\asyncio\\events.py\", line 81, in _run\n",
      "    self._context.run(self._callback, *self._args)\n",
      "  File \"F:\\Python 38\\lib\\asyncio\\selector_events.py\", line 115, in _read_from_self\n",
      "    data = self._ssock.recv(4096)\n",
      "ConnectionResetError: [WinError 10054] An existing connection was forcibly closed by the remote host\n",
      "Exception in callback BaseSelectorEventLoop._read_from_self()\n",
      "handle: <Handle BaseSelectorEventLoop._read_from_self()>\n",
      "Traceback (most recent call last):\n",
      "  File \"F:\\Python 38\\lib\\asyncio\\events.py\", line 81, in _run\n",
      "    self._context.run(self._callback, *self._args)\n",
      "  File \"F:\\Python 38\\lib\\asyncio\\selector_events.py\", line 115, in _read_from_self\n",
      "    data = self._ssock.recv(4096)\n",
      "ConnectionResetError: [WinError 10054] An existing connection was forcibly closed by the remote host\n",
      "Exception in callback BaseSelectorEventLoop._read_from_self()\n",
      "handle: <Handle BaseSelectorEventLoop._read_from_self()>\n",
      "Traceback (most recent call last):\n",
      "  File \"F:\\Python 38\\lib\\asyncio\\events.py\", line 81, in _run\n",
      "    self._context.run(self._callback, *self._args)\n",
      "  File \"F:\\Python 38\\lib\\asyncio\\selector_events.py\", line 115, in _read_from_self\n",
      "    data = self._ssock.recv(4096)\n",
      "ConnectionResetError: [WinError 10054] An existing connection was forcibly closed by the remote host\n",
      "Exception in callback BaseSelectorEventLoop._read_from_self()\n",
      "handle: <Handle BaseSelectorEventLoop._read_from_self()>\n",
      "Traceback (most recent call last):\n",
      "  File \"F:\\Python 38\\lib\\asyncio\\events.py\", line 81, in _run\n",
      "    self._context.run(self._callback, *self._args)\n",
      "  File \"F:\\Python 38\\lib\\asyncio\\selector_events.py\", line 115, in _read_from_self\n",
      "    data = self._ssock.recv(4096)\n",
      "ConnectionResetError: [WinError 10054] An existing connection was forcibly closed by the remote host\n",
      "Exception in callback BaseSelectorEventLoop._read_from_self()\n",
      "handle: <Handle BaseSelectorEventLoop._read_from_self()>\n",
      "Traceback (most recent call last):\n",
      "  File \"F:\\Python 38\\lib\\asyncio\\events.py\", line 81, in _run\n",
      "    self._context.run(self._callback, *self._args)\n",
      "  File \"F:\\Python 38\\lib\\asyncio\\selector_events.py\", line 115, in _read_from_self\n",
      "    data = self._ssock.recv(4096)\n",
      "ConnectionResetError: [WinError 10054] An existing connection was forcibly closed by the remote host\n",
      "Exception in callback BaseSelectorEventLoop._read_from_self()\n",
      "handle: <Handle BaseSelectorEventLoop._read_from_self()>\n",
      "Traceback (most recent call last):\n",
      "  File \"F:\\Python 38\\lib\\asyncio\\events.py\", line 81, in _run\n",
      "    self._context.run(self._callback, *self._args)\n",
      "  File \"F:\\Python 38\\lib\\asyncio\\selector_events.py\", line 115, in _read_from_self\n",
      "    data = self._ssock.recv(4096)\n",
      "ConnectionResetError: [WinError 10054] An existing connection was forcibly closed by the remote host\n",
      "Exception in callback BaseSelectorEventLoop._read_from_self()\n",
      "handle: <Handle BaseSelectorEventLoop._read_from_self()>\n",
      "Traceback (most recent call last):\n",
      "  File \"F:\\Python 38\\lib\\asyncio\\events.py\", line 81, in _run\n",
      "    self._context.run(self._callback, *self._args)\n",
      "  File \"F:\\Python 38\\lib\\asyncio\\selector_events.py\", line 115, in _read_from_self\n",
      "    data = self._ssock.recv(4096)\n",
      "ConnectionResetError: [WinError 10054] An existing connection was forcibly closed by the remote host\n"
     ]
    }
   ],
   "source": [
    "# not in :  Check the absence or confirms the absence\n",
    "\n",
    "print(8 not in li)"
   ]
  },
  {
   "cell_type": "code",
   "execution_count": null,
   "id": "9036a254",
   "metadata": {},
   "outputs": [],
   "source": []
  }
 ],
 "metadata": {
  "kernelspec": {
   "display_name": "Python 3 (ipykernel)",
   "language": "python",
   "name": "python3"
  },
  "language_info": {
   "codemirror_mode": {
    "name": "ipython",
    "version": 3
   },
   "file_extension": ".py",
   "mimetype": "text/x-python",
   "name": "python",
   "nbconvert_exporter": "python",
   "pygments_lexer": "ipython3",
   "version": "3.8.0"
  }
 },
 "nbformat": 4,
 "nbformat_minor": 5
}
