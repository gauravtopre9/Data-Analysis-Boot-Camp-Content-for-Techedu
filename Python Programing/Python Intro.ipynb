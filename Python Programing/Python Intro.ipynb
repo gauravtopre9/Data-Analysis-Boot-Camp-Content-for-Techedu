{
 "cells": [
  {
   "attachments": {
    "wimage.jpeg.jpeg": {
     "image/jpeg": "[encoded data removed]"
    }
   },
   "cell_type": "markdown",
   "id": "7c0de2e3",
   "metadata": {},
   "source": [
    "![wimage.jpeg.jpeg](attachment:wimage.jpeg.jpeg)"
   ]
  },
  {
   "cell_type": "markdown",
   "id": "1e9155f2",
   "metadata": {},
   "source": [
    "# Python Introduction"
   ]
  },
  {
   "cell_type": "markdown",
   "id": "af3f51d7",
   "metadata": {},
   "source": [
    "### What is Python?"
   ]
  },
  {
   "cell_type": "markdown",
   "id": "8f47c641",
   "metadata": {},
   "source": [
    "**Python is a popular programming language. It was created by Guido van Rossum, and released in 1991.**\n",
    "\n",
    "*It is Used for :*\n",
    "\n",
    "- web development (server-side),\n",
    "- software development,\n",
    "- mathematics,\n",
    "- system scripting."
   ]
  },
  {
   "cell_type": "markdown",
   "id": "c3b00368",
   "metadata": {},
   "source": [
    "### What can Python do?"
   ]
  },
  {
   "cell_type": "markdown",
   "id": "618ef393",
   "metadata": {},
   "source": [
    "- Python can be used on a server to create web applications.\n",
    "- Python can be used alongside software to create workflows.\n",
    "- Python can connect to database systems. It can also read and modify files.\n",
    "- Python can be used to handle big data and perform complex mathematics.\n",
    "- Python can be used for rapid prototyping, or for production-ready software development."
   ]
  },
  {
   "cell_type": "markdown",
   "id": "613bc4f6",
   "metadata": {},
   "source": [
    "### Why Python?"
   ]
  },
  {
   "cell_type": "markdown",
   "id": "63f8ec13",
   "metadata": {},
   "source": [
    "- Python works on different platforms (Windows, Mac, Linux, Raspberry Pi, etc).\n",
    "- Python has a simple syntax similar to the English language.\n",
    "- Python has syntax that allows developers to write programs with fewer lines than some other programming languages.\n",
    "- Python runs on an interpreter system, meaning that code can be executed as soon as it is written. This means that prototyping can be very quick.\n",
    "- Python can be treated in a procedural way, an object-oriented way or a functional way."
   ]
  },
  {
   "cell_type": "markdown",
   "id": "72d7b408",
   "metadata": {},
   "source": [
    "### Python Syntax Vs Other Programing Languages"
   ]
  },
  {
   "cell_type": "markdown",
   "id": "d9385cf9",
   "metadata": {},
   "source": [
    "- Python was designed for readability, and has some similarities to the English language with influence from mathematics.\n",
    "- Python uses new lines to complete a command, as opposed to other programming languages which often use semicolons or parentheses.\n",
    "- Python relies on indentation, using whitespace, to define scope; such as the scope of loops, functions and classes. Other programming languages often use curly-brackets for this purpose."
   ]
  },
  {
   "cell_type": "markdown",
   "id": "4a43f9c1",
   "metadata": {},
   "source": [
    "_______________________________________________________________________________________________________________________________"
   ]
  },
  {
   "cell_type": "markdown",
   "id": "b5e29d07",
   "metadata": {},
   "source": [
    "# Installing Python"
   ]
  },
  {
   "cell_type": "markdown",
   "id": "86d9202c",
   "metadata": {},
   "source": [
    "**Refer this video to install Python Programming Language**"
   ]
  },
  {
   "cell_type": "markdown",
   "id": "93214b13",
   "metadata": {},
   "source": [
    "<a href=\"https://www.youtube.com/watch?v=VWgs_iTojoA\">How to Install Python on Windows</a>"
   ]
  },
  {
   "cell_type": "markdown",
   "id": "49a33afa",
   "metadata": {},
   "source": [
    "_______________________________________________________________________________________________________________________________"
   ]
  },
  {
   "cell_type": "markdown",
   "id": "9b9b6677",
   "metadata": {},
   "source": [
    "# Printing Hello TechEdu !!"
   ]
  },
  {
   "cell_type": "markdown",
   "id": "be1c8eb1",
   "metadata": {},
   "source": [
    "**Now we will start writing our first line of code in Python**"
   ]
  },
  {
   "cell_type": "code",
   "execution_count": 1,
   "id": "ce4fb1a0",
   "metadata": {},
   "outputs": [
    {
     "name": "stdout",
     "output_type": "stream",
     "text": [
      "Hello TechEdu !!\n"
     ]
    }
   ],
   "source": [
    "print('Hello TechEdu !!')"
   ]
  },
  {
   "cell_type": "code",
   "execution_count": 1,
   "id": "0a8ac6eb",
   "metadata": {},
   "outputs": [
    {
     "name": "stdout",
     "output_type": "stream",
     "text": [
      "True\n",
      "False\n",
      "45\n",
      "45.2\n",
      "TechEdu\n"
     ]
    }
   ],
   "source": [
    "print(True)\n",
    "print(False)\n",
    "print(45)\n",
    "print(45.2)\n",
    "print('TechEdu')"
   ]
  },
  {
   "cell_type": "markdown",
   "id": "cc0ca6d2",
   "metadata": {},
   "source": [
    "*Yeah !!! We have Written our First Line of Core*"
   ]
  },
  {
   "cell_type": "markdown",
   "id": "093e5da8",
   "metadata": {},
   "source": [
    "_______________________________________________________________________________________________________________________________"
   ]
  },
  {
   "cell_type": "markdown",
   "id": "8a01e3e3",
   "metadata": {},
   "source": [
    "# Python Identation"
   ]
  },
  {
   "cell_type": "markdown",
   "id": "0a14e7dc",
   "metadata": {},
   "source": [
    "**Indentation refers to the spaces at the beginning of a code line.**\n",
    "\n",
    "Where in other programming languages the indentation in code is for readability only, the indentation in Python is very important.\n",
    "\n",
    "Python uses indentation to indicate a block of code."
   ]
  },
  {
   "cell_type": "markdown",
   "id": "abaaa72e",
   "metadata": {},
   "source": [
    "> Example \n",
    "\n",
    "> if 5>2:\n",
    "   \n",
    "           print('5 is greater than 2')\n"
   ]
  },
  {
   "cell_type": "code",
   "execution_count": 4,
   "id": "6cdf1f2c",
   "metadata": {},
   "outputs": [
    {
     "name": "stdout",
     "output_type": "stream",
     "text": [
      "Yes\n"
     ]
    }
   ],
   "source": [
    "if 5>2:\n",
    "    print('Yes')"
   ]
  },
  {
   "cell_type": "markdown",
   "id": "aa67b98f",
   "metadata": {},
   "source": [
    "Python will give you an error if you skip the indentation:"
   ]
  },
  {
   "cell_type": "markdown",
   "id": "a0362fc4",
   "metadata": {},
   "source": [
    "> code below will produce Identation Error\n",
    "\n",
    "> if 5>2:\n",
    "   \n",
    "       print('5 is greater than 2')"
   ]
  },
  {
   "cell_type": "markdown",
   "id": "7009b71e",
   "metadata": {},
   "source": [
    "_______________________________________________________________________________________________________________________________"
   ]
  },
  {
   "cell_type": "markdown",
   "id": "ba1c3374",
   "metadata": {},
   "source": [
    "# Python Comments"
   ]
  },
  {
   "cell_type": "markdown",
   "id": "f6f2b200",
   "metadata": {},
   "source": [
    "- Comments can be used to explain Python code.\n",
    "\n",
    "- Comments can be used to make the code more readable.\n",
    "\n",
    "- Comments can be used to prevent execution when testing code."
   ]
  },
  {
   "cell_type": "code",
   "execution_count": 11,
   "id": "c785a389",
   "metadata": {},
   "outputs": [
    {
     "name": "stdout",
     "output_type": "stream",
     "text": [
      "Hello Learners!!!\n"
     ]
    }
   ],
   "source": [
    "print('Hello Learners!!!') #This is my first line \n",
    "\n",
    "#I am Student\n",
    "#currently in Final Year\n"
   ]
  },
  {
   "cell_type": "markdown",
   "id": "2742d5a8",
   "metadata": {},
   "source": [
    "### Creating Comment"
   ]
  },
  {
   "cell_type": "markdown",
   "id": "b90ebc12",
   "metadata": {},
   "source": [
    "**Comments starts with a #, and Python will ignore them:**"
   ]
  },
  {
   "cell_type": "code",
   "execution_count": 3,
   "id": "0e305414",
   "metadata": {},
   "outputs": [
    {
     "name": "stdout",
     "output_type": "stream",
     "text": [
      "Hello Team !\n"
     ]
    }
   ],
   "source": [
    "#this is comment\n",
    "print('Hello Team !')"
   ]
  },
  {
   "cell_type": "markdown",
   "id": "8d80b864",
   "metadata": {},
   "source": [
    "**Comments can be placed at the end of a line, and Python will ignore the rest of the line:**"
   ]
  },
  {
   "cell_type": "code",
   "execution_count": 4,
   "id": "c8a15e77",
   "metadata": {},
   "outputs": [
    {
     "name": "stdout",
     "output_type": "stream",
     "text": [
      "Hello, TechEdu!\n"
     ]
    }
   ],
   "source": [
    "print(\"Hello, TechEdu!\") #This is a comment"
   ]
  },
  {
   "cell_type": "markdown",
   "id": "4a06e9a3",
   "metadata": {},
   "source": [
    "**A comment does not necessarily have to be text that explains the code, it can also be used to prevent Python from executing code:**"
   ]
  },
  {
   "cell_type": "code",
   "execution_count": 5,
   "id": "f33b7693",
   "metadata": {},
   "outputs": [
    {
     "name": "stdout",
     "output_type": "stream",
     "text": [
      "Cheers, TechEdu !\n"
     ]
    }
   ],
   "source": [
    "#print(\"Hello, Team\")\n",
    "print(\"Cheers, TechEdu !\")"
   ]
  },
  {
   "cell_type": "markdown",
   "id": "155d43dc",
   "metadata": {},
   "source": [
    "# Python Variable"
   ]
  },
  {
   "cell_type": "markdown",
   "id": "24f916ec",
   "metadata": {},
   "source": [
    "### What is Python Variables ?"
   ]
  },
  {
   "cell_type": "markdown",
   "id": "9beaf910",
   "metadata": {},
   "source": [
    "**Variables are containers for storing data values.**"
   ]
  },
  {
   "cell_type": "markdown",
   "id": "819aa72a",
   "metadata": {},
   "source": [
    "### Creating Variables"
   ]
  },
  {
   "cell_type": "markdown",
   "id": "8ead0cc7",
   "metadata": {},
   "source": [
    "- Python has no command for declaring a variable.\n",
    "\n",
    "- A variable is created the moment you first assign a value to it."
   ]
  },
  {
   "cell_type": "code",
   "execution_count": 16,
   "id": "02d7046a",
   "metadata": {},
   "outputs": [
    {
     "name": "stdout",
     "output_type": "stream",
     "text": [
      "10\n",
      "11\n",
      "a\n"
     ]
    }
   ],
   "source": [
    "a = 11\n",
    "print(10) #line 1\n",
    "print(a) #line 2\n",
    "print('a')"
   ]
  },
  {
   "cell_type": "code",
   "execution_count": 9,
   "id": "3733a4e6",
   "metadata": {},
   "outputs": [
    {
     "name": "stdout",
     "output_type": "stream",
     "text": [
      "2022\n",
      "TechEdu\n"
     ]
    }
   ],
   "source": [
    "x = 2022\n",
    "y = \"TechEdu\"\n",
    "print(x)\n",
    "print(y)"
   ]
  },
  {
   "cell_type": "code",
   "execution_count": 18,
   "id": "c11a50cc",
   "metadata": {},
   "outputs": [
    {
     "name": "stdout",
     "output_type": "stream",
     "text": [
      "10\n",
      "15\n",
      "20\n"
     ]
    }
   ],
   "source": [
    "techedu = 10\n",
    "print(techedu)\n",
    "techedu = 15\n",
    "print(techedu)\n",
    "techedu = 20\n",
    "print(techedu)"
   ]
  },
  {
   "cell_type": "markdown",
   "id": "a46ced4c",
   "metadata": {},
   "source": [
    "Variables do not need to be declared with any particular type, and can even change type after they have been set.**"
   ]
  },
  {
   "cell_type": "markdown",
   "id": "759472dc",
   "metadata": {},
   "source": [
    "### Casting Variables"
   ]
  },
  {
   "cell_type": "markdown",
   "id": "1aa1a64a",
   "metadata": {},
   "source": [
    "*If you want to specify the data type of a variable, this cxan be done using casting*"
   ]
  },
  {
   "cell_type": "code",
   "execution_count": 24,
   "id": "51afc070",
   "metadata": {},
   "outputs": [],
   "source": [
    "a = int(14)\n",
    "b = float(14)\n",
    "c = str(14)\n",
    "d = 14.0"
   ]
  },
  {
   "cell_type": "code",
   "execution_count": 22,
   "id": "2dc9229e",
   "metadata": {},
   "outputs": [
    {
     "name": "stdout",
     "output_type": "stream",
     "text": [
      "14\n",
      "14.0\n",
      "14\n",
      "14\n"
     ]
    }
   ],
   "source": [
    "print(a)\n",
    "print(b)\n",
    "print(c)\n",
    "print(d)"
   ]
  },
  {
   "cell_type": "markdown",
   "id": "63c25fb8",
   "metadata": {},
   "source": [
    "### Getting the type of Variable"
   ]
  },
  {
   "cell_type": "markdown",
   "id": "369701fd",
   "metadata": {},
   "source": [
    "You can get the data type of variable with **type()** function"
   ]
  },
  {
   "cell_type": "code",
   "execution_count": 28,
   "id": "52a95593",
   "metadata": {},
   "outputs": [
    {
     "name": "stdout",
     "output_type": "stream",
     "text": [
      "<class 'int'>\n",
      "<class 'float'>\n",
      "<class 'str'>\n",
      "<class 'float'>\n"
     ]
    }
   ],
   "source": [
    "print(type(a))\n",
    "print(type(b))\n",
    "print(type(c))\n",
    "print(type(d))"
   ]
  },
  {
   "cell_type": "code",
   "execution_count": 29,
   "id": "f4785f6f",
   "metadata": {},
   "outputs": [
    {
     "name": "stdout",
     "output_type": "stream",
     "text": [
      "<class 'int'>\n",
      "<class 'str'>\n",
      "<class 'bool'>\n"
     ]
    }
   ],
   "source": [
    "x = 10\n",
    "y = 'TechEdu'\n",
    "z = 'true'\n",
    "a = '45'\n",
    "\n",
    "print(type(x))\n",
    "print(type(y))\n",
    "print(type(z))"
   ]
  },
  {
   "cell_type": "markdown",
   "id": "70d7c55f",
   "metadata": {},
   "source": [
    "### Single and Double Quote"
   ]
  },
  {
   "cell_type": "markdown",
   "id": "e7a4a900",
   "metadata": {},
   "source": [
    "String variable can be declared either by single or double inverted comma"
   ]
  },
  {
   "cell_type": "code",
   "execution_count": 4,
   "id": "8cefb185",
   "metadata": {},
   "outputs": [],
   "source": [
    "a = 'Techedu'\n",
    "\n",
    "#this is same as \n",
    "\n",
    "a = \"Techedu\""
   ]
  },
  {
   "cell_type": "markdown",
   "id": "0ef0bdbc",
   "metadata": {},
   "source": [
    "### Case Sensitive"
   ]
  },
  {
   "cell_type": "markdown",
   "id": "7076e75c",
   "metadata": {},
   "source": [
    "Variable name are case Sensitive"
   ]
  },
  {
   "cell_type": "code",
   "execution_count": 6,
   "id": "518f0879",
   "metadata": {},
   "outputs": [],
   "source": [
    "a = 14\n",
    " #is not same as\n",
    "    \n",
    "A = 'Upskilling'    "
   ]
  },
  {
   "cell_type": "code",
   "execution_count": null,
   "id": "11f11d08",
   "metadata": {},
   "outputs": [],
   "source": [
    "techedu = 10\n",
    "Techedu = 15\n",
    "TechEdu = 20"
   ]
  },
  {
   "cell_type": "markdown",
   "id": "2b7b7619",
   "metadata": {},
   "source": [
    "Here capital A will not overwrite a."
   ]
  },
  {
   "cell_type": "markdown",
   "id": "cbdf99d5",
   "metadata": {},
   "source": [
    "### Variable name "
   ]
  },
  {
   "cell_type": "markdown",
   "id": "dd300f20",
   "metadata": {},
   "source": [
    "A variable can have short name (like x and y ) or a more descriptive name (age, carname, total_volume). \n",
    "\n",
    "**Rules for Python variable:**\n",
    "        \n",
    "- A variable name must start with a letter or the underscore characters\n",
    "- A variable name can only contain alpha-numaric characters and underscore(A-z, 0-9, and_)\n",
    "- Variable names are case_sensitive (age, Age and AGE are three different variable)   "
   ]
  },
  {
   "cell_type": "markdown",
   "id": "d272a8c3",
   "metadata": {},
   "source": [
    "**EXAMPLE**\n",
    "\n",
    "Legal variable name "
   ]
  },
  {
   "cell_type": "code",
   "execution_count": 10,
   "id": "c764310b",
   "metadata": {},
   "outputs": [],
   "source": [
    "myvar  =  'John'\n",
    "my_var =  'John'\n",
    "_my_var = 'John'\n",
    "MYVAR   = 'John'\n",
    "myvar2  =  'John'"
   ]
  },
  {
   "cell_type": "markdown",
   "id": "e53d5bb8",
   "metadata": {},
   "source": [
    "**EXAMPLE**\n",
    "\n",
    "illegal variable name.\n",
    "\n",
    "Following code will be showing error as the names of Variables are illigal."
   ]
  },
  {
   "cell_type": "code",
   "execution_count": 9,
   "id": "4073af74",
   "metadata": {},
   "outputs": [
    {
     "ename": "SyntaxError",
     "evalue": "invalid syntax (3580335520.py, line 3)",
     "output_type": "error",
     "traceback": [
      "\u001b[1;36m  Input \u001b[1;32mIn [9]\u001b[1;36m\u001b[0m\n\u001b[1;33m    illegal variable name\u001b[0m\n\u001b[1;37m            ^\u001b[0m\n\u001b[1;31mSyntaxError\u001b[0m\u001b[1;31m:\u001b[0m invalid syntax\n"
     ]
    }
   ],
   "source": [
    "2myvar  = 'John'\n",
    "my-var  = 'John'\n",
    "my var  = 'John'"
   ]
  },
  {
   "cell_type": "markdown",
   "id": "502d9577",
   "metadata": {},
   "source": [
    "### Multi Words Variable Names "
   ]
  },
  {
   "cell_type": "markdown",
   "id": "8a3389e6",
   "metadata": {},
   "source": [
    "Variable names with more than one word can be difficult to read.\n",
    "\n",
    "There are several tecniques you can use to make them more readable;"
   ]
  },
  {
   "cell_type": "markdown",
   "id": "6fd1fbbf",
   "metadata": {},
   "source": [
    "- **Camle Case**"
   ]
  },
  {
   "cell_type": "code",
   "execution_count": 1,
   "id": "e1f69cf6",
   "metadata": {},
   "outputs": [],
   "source": [
    "prime_minister_of_India = 2019\n",
    "primeMinisterOfIndia = "
   ]
  },
  {
   "cell_type": "markdown",
   "id": "9e1dfcc8",
   "metadata": {},
   "source": [
    "#camle Case\n",
    "\n",
    "myTeamTechedu\n",
    "\n",
    "#pascle\n",
    "\n",
    "MyTeamTeched\n",
    "\n",
    "#snake\n",
    "\n",
    "my_team_techedu"
   ]
  },
  {
   "cell_type": "markdown",
   "id": "db67e70c",
   "metadata": {},
   "source": [
    "Every Word, except the first starts with capital letter."
   ]
  },
  {
   "cell_type": "code",
   "execution_count": null,
   "id": "0b9a10de",
   "metadata": {},
   "outputs": [],
   "source": [
    "my_Team_Techedu = 14"
   ]
  },
  {
   "cell_type": "code",
   "execution_count": 11,
   "id": "3356763d",
   "metadata": {},
   "outputs": [],
   "source": [
    "myTeamTechedu = 14"
   ]
  },
  {
   "cell_type": "markdown",
   "id": "b92af621",
   "metadata": {},
   "source": [
    "- **Pascal Case**"
   ]
  },
  {
   "cell_type": "markdown",
   "id": "347eb139",
   "metadata": {},
   "source": [
    "Each word starts with capital letter"
   ]
  },
  {
   "cell_type": "code",
   "execution_count": 12,
   "id": "b7e41917",
   "metadata": {},
   "outputs": [],
   "source": [
    "MyTeamTechedu = 14"
   ]
  },
  {
   "cell_type": "markdown",
   "id": "f7c0c825",
   "metadata": {},
   "source": [
    "- **Snake Case**"
   ]
  },
  {
   "cell_type": "markdown",
   "id": "46c554e7",
   "metadata": {},
   "source": [
    "Each word is separated by an underscore character."
   ]
  },
  {
   "cell_type": "code",
   "execution_count": 15,
   "id": "87444702",
   "metadata": {},
   "outputs": [],
   "source": [
    "my_team_techedu = 14"
   ]
  },
  {
   "cell_type": "markdown",
   "id": "b43ccefa",
   "metadata": {},
   "source": [
    "> #### Many Values to multiple variables"
   ]
  },
  {
   "cell_type": "code",
   "execution_count": 4,
   "id": "d640b78b",
   "metadata": {},
   "outputs": [
    {
     "name": "stdout",
     "output_type": "stream",
     "text": [
      "10\n",
      "20\n",
      "30\n",
      "10 20 30\n"
     ]
    }
   ],
   "source": [
    "x = 10\n",
    "y = 20\n",
    "z = 30\n",
    "\n",
    "x,y,z = 10,20,30\n",
    "print(x)\n",
    "print(y)\n",
    "print(z)\n",
    "print(x,y,z)"
   ]
  },
  {
   "cell_type": "code",
   "execution_count": 16,
   "id": "5fddb80c",
   "metadata": {},
   "outputs": [
    {
     "name": "stdout",
     "output_type": "stream",
     "text": [
      "1\n",
      "2\n",
      "3\n"
     ]
    }
   ],
   "source": [
    "a,b,c = 1,2,3\n",
    "\n",
    "print(a)\n",
    "print(b)\n",
    "print(c)"
   ]
  },
  {
   "cell_type": "code",
   "execution_count": 5,
   "id": "b52ec325",
   "metadata": {},
   "outputs": [
    {
     "name": "stdout",
     "output_type": "stream",
     "text": [
      "0\n"
     ]
    }
   ],
   "source": [
    "ram , shaym , Ravi = 1000,2000,0\n",
    "print(Ravi)"
   ]
  },
  {
   "cell_type": "markdown",
   "id": "931de43e",
   "metadata": {},
   "source": [
    "> #### One value to multiple Variables"
   ]
  },
  {
   "cell_type": "code",
   "execution_count": 11,
   "id": "85d0c0e4",
   "metadata": {},
   "outputs": [
    {
     "name": "stdout",
     "output_type": "stream",
     "text": [
      "Techedu Techedu Techedu\n"
     ]
    }
   ],
   "source": [
    "a = b = c = 'Techedu'\n",
    "print(a,b,c)"
   ]
  },
  {
   "cell_type": "code",
   "execution_count": 7,
   "id": "8172f688",
   "metadata": {},
   "outputs": [
    {
     "name": "stdout",
     "output_type": "stream",
     "text": [
      "Techedu\n",
      "Techedu\n",
      "Techedu\n"
     ]
    }
   ],
   "source": [
    "print(a)\n",
    "print(b)\n",
    "print(c)"
   ]
  },
  {
   "cell_type": "markdown",
   "id": "c995eb8d",
   "metadata": {},
   "source": [
    "> #### Unpack a Collection"
   ]
  },
  {
   "cell_type": "markdown",
   "id": "8fab77b2",
   "metadata": {},
   "source": [
    "If you have a collection of values in a list,tuple,etc. Python allows you to extract the values into variables. This is called  **Unpacking**"
   ]
  },
  {
   "cell_type": "code",
   "execution_count": 13,
   "id": "6124740d",
   "metadata": {},
   "outputs": [],
   "source": [
    "fruits = ['apple','banana','mango']\n",
    "x,y,z = fruits"
   ]
  },
  {
   "cell_type": "code",
   "execution_count": 20,
   "id": "e1e911d9",
   "metadata": {},
   "outputs": [
    {
     "name": "stdout",
     "output_type": "stream",
     "text": [
      "apple\n",
      "banana\n",
      "mango\n"
     ]
    }
   ],
   "source": [
    "print(x)\n",
    "print(y)\n",
    "print(z)"
   ]
  },
  {
   "cell_type": "markdown",
   "id": "616643fc",
   "metadata": {},
   "source": [
    "> #### Output Variables"
   ]
  },
  {
   "cell_type": "markdown",
   "id": "04b06432",
   "metadata": {},
   "source": [
    "The python **print** statement is often used to output variables.\n",
    "\n",
    "To combine both text and a variable, python uses the **+** Character."
   ]
  },
  {
   "cell_type": "code",
   "execution_count": 22,
   "id": "a5096916",
   "metadata": {},
   "outputs": [
    {
     "name": "stdout",
     "output_type": "stream",
     "text": [
      "This number is 10\n",
      "This number is 8\n",
      "This number is 8 and we have stored it as 10\n"
     ]
    }
   ],
   "source": [
    "a,b =8,10\n",
    "\n",
    "print('This number is 10')\n",
    "print('This number is',a)\n",
    "print('This number is',a, 'and we have stored it as',b)"
   ]
  },
  {
   "cell_type": "code",
   "execution_count": 27,
   "id": "3efb47a3",
   "metadata": {},
   "outputs": [
    {
     "name": "stdout",
     "output_type": "stream",
     "text": [
      "We are Upskilling\n"
     ]
    }
   ],
   "source": [
    "x = 'Upskilling'\n",
    "\n",
    "print('We are ' + x)"
   ]
  },
  {
   "cell_type": "markdown",
   "id": "d54fb3dd",
   "metadata": {},
   "source": [
    "You can also use **+** character to add a variable to another variable."
   ]
  },
  {
   "cell_type": "code",
   "execution_count": 30,
   "id": "ef893b39",
   "metadata": {},
   "outputs": [
    {
     "name": "stdout",
     "output_type": "stream",
     "text": [
      "InformationTechnology\n",
      "Information Technology\n",
      "Information Technology\n"
     ]
    }
   ],
   "source": [
    "a = 'Information'\n",
    "b = 'Technology'\n",
    "\n",
    "print(a+b)\n",
    "print(a,b)\n",
    "print(a+' '+b)"
   ]
  },
  {
   "cell_type": "code",
   "execution_count": 48,
   "id": "1f1991ad",
   "metadata": {},
   "outputs": [
    {
     "data": {
      "text/plain": [
       "'InformationTechnology'"
      ]
     },
     "execution_count": 48,
     "metadata": {},
     "output_type": "execute_result"
    }
   ],
   "source": [
    "a+b"
   ]
  },
  {
   "cell_type": "code",
   "execution_count": 24,
   "id": "4fdda253",
   "metadata": {},
   "outputs": [
    {
     "data": {
      "text/plain": [
       "'Information Technology'"
      ]
     },
     "execution_count": 24,
     "metadata": {},
     "output_type": "execute_result"
    }
   ],
   "source": [
    "a+' '+b "
   ]
  },
  {
   "cell_type": "markdown",
   "id": "c410a682",
   "metadata": {},
   "source": [
    "### Global Variables"
   ]
  },
  {
   "cell_type": "markdown",
   "id": "16099cb7",
   "metadata": {},
   "source": [
    "Variable that are created outside of a function (as in all of the example above ) are known as global vriables.\n",
    "\n",
    "Global variables can be used by everyone, both inside of function and outside."
   ]
  },
  {
   "cell_type": "markdown",
   "id": "b085b416",
   "metadata": {},
   "source": [
    "**Example** \n",
    "\n",
    "Create a variable can be used by outside of a function, and use it inside the function"
   ]
  },
  {
   "cell_type": "code",
   "execution_count": 26,
   "id": "41544b11",
   "metadata": {},
   "outputs": [],
   "source": [
    "x  =  \"awesome\"\n",
    "def myfune () :\n",
    "    print(\"python is\" +  X)\n",
    "    \n",
    "myfune()"
   ]
  },
  {
   "cell_type": "code",
   "execution_count": 27,
   "id": "4820e1ea",
   "metadata": {},
   "outputs": [
    {
     "ename": "SyntaxError",
     "evalue": "invalid syntax (4018115854.py, line 1)",
     "output_type": "error",
     "traceback": [
      "\u001b[1;36m  Input \u001b[1;32mIn [27]\u001b[1;36m\u001b[0m\n\u001b[1;33m    if you create  a variable with the same name inside a function. The global variable with the same name will remain as it was, global and with the orignal value.\u001b[0m\n\u001b[1;37m           ^\u001b[0m\n\u001b[1;31mSyntaxError\u001b[0m\u001b[1;31m:\u001b[0m invalid syntax\n"
     ]
    }
   ],
   "source": [
    "if you create  a variable with the same name inside a function. The global variable with the same name will remain as it was, global and with the orignal value.\n"
   ]
  },
  {
   "cell_type": "code",
   "execution_count": 28,
   "id": "f0cdc4ba",
   "metadata": {},
   "outputs": [
    {
     "ename": "SyntaxError",
     "evalue": "invalid syntax (714790579.py, line 3)",
     "output_type": "error",
     "traceback": [
      "\u001b[1;36m  Input \u001b[1;32mIn [28]\u001b[1;36m\u001b[0m\n\u001b[1;33m    Create a variable inside a function, with the same name as the global variable\u001b[0m\n\u001b[1;37m           ^\u001b[0m\n\u001b[1;31mSyntaxError\u001b[0m\u001b[1;31m:\u001b[0m invalid syntax\n"
     ]
    }
   ],
   "source": [
    "Example \n",
    "\n",
    "Create a variable inside a function, with the same name as the global variable \n",
    "\n",
    "x =  'awesome'\n",
    "\n",
    "\n",
    " def myfunc () :\n",
    "        x = \"fantastic\"\n",
    "        print(\"Python is \"  + x)"
   ]
  },
  {
   "cell_type": "code",
   "execution_count": null,
   "id": "4add0773",
   "metadata": {},
   "outputs": [],
   "source": [
    "The global keyword\n",
    "\n",
    "Normally, when you create a variabvle inside a function, the variable is local, and can only be used inside the function.\n",
    "\n",
    "To create a global variable inside a function,you can use the global keyword.\n",
    "\n",
    "\n",
    "Example \n",
    "\n",
    " if you use the global keyword,the variable belongs to the global scope.87"
   ]
  },
  {
   "cell_type": "code",
   "execution_count": null,
   "id": "6967fc99",
   "metadata": {},
   "outputs": [],
   "source": []
  },
  {
   "cell_type": "code",
   "execution_count": null,
   "id": "5d44ebb7",
   "metadata": {},
   "outputs": [],
   "source": []
  },
  {
   "cell_type": "markdown",
   "id": "85fb26eb",
   "metadata": {},
   "source": [
    "# Data Types"
   ]
  },
  {
   "cell_type": "markdown",
   "id": "fd3e99c2",
   "metadata": {},
   "source": [
    "- Numbers : Int, Float, Complex\n",
    "- String\n",
    "- Boolean ( True and False)\n",
    "- List\n",
    "- Sets\n",
    "- Dictionaries\n",
    "- Tuples"
   ]
  },
  {
   "cell_type": "markdown",
   "id": "e4f9521b",
   "metadata": {},
   "source": [
    "## Numbers"
   ]
  },
  {
   "cell_type": "markdown",
   "id": "7c18fcd0",
   "metadata": {},
   "source": [
    "**1. Integer**"
   ]
  },
  {
   "cell_type": "markdown",
   "id": "af09f67c",
   "metadata": {},
   "source": [
    "All whole Numbers and their negations comes under Int"
   ]
  },
  {
   "cell_type": "code",
   "execution_count": 31,
   "id": "550821c1",
   "metadata": {},
   "outputs": [
    {
     "name": "stdout",
     "output_type": "stream",
     "text": [
      "<class 'int'>\n"
     ]
    }
   ],
   "source": [
    "a = 10\n",
    "type(a)\n",
    "b = -10\n",
    "print(type(b))"
   ]
  },
  {
   "cell_type": "markdown",
   "id": "ca8d5e3a",
   "metadata": {},
   "source": [
    "**2.Float**"
   ]
  },
  {
   "cell_type": "markdown",
   "id": "36199044",
   "metadata": {},
   "source": [
    "All Natural numbers and their negations comes under **FLOAT**"
   ]
  },
  {
   "cell_type": "code",
   "execution_count": 51,
   "id": "eafcf8fa",
   "metadata": {},
   "outputs": [
    {
     "data": {
      "text/plain": [
       "float"
      ]
     },
     "execution_count": 51,
     "metadata": {},
     "output_type": "execute_result"
    }
   ],
   "source": [
    "x = 10.3256897\n",
    "type(x)"
   ]
  },
  {
   "cell_type": "markdown",
   "id": "8568de7e",
   "metadata": {},
   "source": [
    "#### Inverting Int to float"
   ]
  },
  {
   "cell_type": "code",
   "execution_count": 34,
   "id": "a4cfcf72",
   "metadata": {},
   "outputs": [
    {
     "name": "stdout",
     "output_type": "stream",
     "text": [
      "<class 'int'>\n",
      "<class 'float'>\n",
      "(10+0j)\n"
     ]
    }
   ],
   "source": [
    "a = 10\n",
    "print(type(10))\n",
    "\n",
    "b = float(a)\n",
    "print(type(b))\n",
    "\n",
    "c = complex(b)\n",
    "print(c)\n"
   ]
  },
  {
   "cell_type": "markdown",
   "id": "111de75c",
   "metadata": {},
   "source": [
    "**3.Complex Numbers**"
   ]
  },
  {
   "cell_type": "code",
   "execution_count": 57,
   "id": "5b1592c3",
   "metadata": {},
   "outputs": [],
   "source": [
    "a = 10 + 2j"
   ]
  },
  {
   "cell_type": "markdown",
   "id": "7b0c6b99",
   "metadata": {},
   "source": [
    "type(a)"
   ]
  },
  {
   "cell_type": "markdown",
   "id": "fb3e42c6",
   "metadata": {},
   "source": [
    "### String"
   ]
  },
  {
   "cell_type": "markdown",
   "id": "82ca4d53",
   "metadata": {},
   "source": [
    "All the alphanumerical data which may also contain symbols and signs comes under strings"
   ]
  },
  {
   "cell_type": "code",
   "execution_count": 60,
   "id": "20dde43e",
   "metadata": {},
   "outputs": [],
   "source": [
    "a = '#upskilling9'"
   ]
  },
  {
   "cell_type": "code",
   "execution_count": 61,
   "id": "7ea0c644",
   "metadata": {},
   "outputs": [
    {
     "data": {
      "text/plain": [
       "str"
      ]
     },
     "execution_count": 61,
     "metadata": {},
     "output_type": "execute_result"
    }
   ],
   "source": [
    "type(a)"
   ]
  },
  {
   "cell_type": "code",
   "execution_count": 62,
   "id": "4010ce95",
   "metadata": {},
   "outputs": [
    {
     "data": {
      "text/plain": [
       "'10'"
      ]
     },
     "execution_count": 62,
     "metadata": {},
     "output_type": "execute_result"
    }
   ],
   "source": [
    "a = 10\n",
    "str(10)"
   ]
  },
  {
   "cell_type": "code",
   "execution_count": 63,
   "id": "ab5f1f10",
   "metadata": {},
   "outputs": [],
   "source": [
    "a = 'techedu'"
   ]
  },
  {
   "cell_type": "code",
   "execution_count": 64,
   "id": "96d206cc",
   "metadata": {},
   "outputs": [
    {
     "data": {
      "text/plain": [
       "'TECHEDU'"
      ]
     },
     "execution_count": 64,
     "metadata": {},
     "output_type": "execute_result"
    }
   ],
   "source": [
    "a.upper()"
   ]
  },
  {
   "cell_type": "code",
   "execution_count": 65,
   "id": "0c063158",
   "metadata": {},
   "outputs": [
    {
     "data": {
      "text/plain": [
       "'techedu'"
      ]
     },
     "execution_count": 65,
     "metadata": {},
     "output_type": "execute_result"
    }
   ],
   "source": [
    "a.lower()"
   ]
  },
  {
   "cell_type": "code",
   "execution_count": 66,
   "id": "0e674a2f",
   "metadata": {},
   "outputs": [
    {
     "data": {
      "text/plain": [
       "'Techedu'"
      ]
     },
     "execution_count": 66,
     "metadata": {},
     "output_type": "execute_result"
    }
   ],
   "source": [
    "a.title()"
   ]
  },
  {
   "cell_type": "code",
   "execution_count": 67,
   "id": "80ec9d11",
   "metadata": {},
   "outputs": [
    {
     "data": {
      "text/plain": [
       "'Techedu'"
      ]
     },
     "execution_count": 67,
     "metadata": {},
     "output_type": "execute_result"
    }
   ],
   "source": [
    "a.capitalize()"
   ]
  },
  {
   "cell_type": "code",
   "execution_count": 69,
   "id": "898cc7c2",
   "metadata": {},
   "outputs": [
    {
     "data": {
      "text/plain": [
       "'the man is human'"
      ]
     },
     "execution_count": 69,
     "metadata": {},
     "output_type": "execute_result"
    }
   ],
   "source": [
    "b = 'The man is human'\n",
    "b.lower()"
   ]
  },
  {
   "cell_type": "code",
   "execution_count": 70,
   "id": "4d839174",
   "metadata": {},
   "outputs": [
    {
     "data": {
      "text/plain": [
       "'THE MAN IS HUMAN'"
      ]
     },
     "execution_count": 70,
     "metadata": {},
     "output_type": "execute_result"
    }
   ],
   "source": [
    "b.upper()"
   ]
  },
  {
   "cell_type": "code",
   "execution_count": 72,
   "id": "8624576c",
   "metadata": {},
   "outputs": [
    {
     "data": {
      "text/plain": [
       "'The man is human'"
      ]
     },
     "execution_count": 72,
     "metadata": {},
     "output_type": "execute_result"
    }
   ],
   "source": [
    "b.capitalize()"
   ]
  },
  {
   "cell_type": "code",
   "execution_count": 73,
   "id": "de85cc55",
   "metadata": {},
   "outputs": [
    {
     "data": {
      "text/plain": [
       "'The Man Is Human'"
      ]
     },
     "execution_count": 73,
     "metadata": {},
     "output_type": "execute_result"
    }
   ],
   "source": [
    "b.title()"
   ]
  },
  {
   "cell_type": "code",
   "execution_count": 83,
   "id": "ab1f1fd9",
   "metadata": {},
   "outputs": [
    {
     "data": {
      "text/plain": [
       "'TCEU'"
      ]
     },
     "execution_count": 83,
     "metadata": {},
     "output_type": "execute_result"
    }
   ],
   "source": [
    "a = 'TECHEDU'\n",
    "a[-1]\n",
    "a[::2]\n",
    "#a[start:end:step size]"
   ]
  },
  {
   "cell_type": "code",
   "execution_count": 84,
   "id": "61834126",
   "metadata": {},
   "outputs": [
    {
     "data": {
      "text/plain": [
       "'TECHEDU'"
      ]
     },
     "execution_count": 84,
     "metadata": {},
     "output_type": "execute_result"
    }
   ],
   "source": [
    "a"
   ]
  },
  {
   "cell_type": "code",
   "execution_count": 85,
   "id": "cfabe960",
   "metadata": {},
   "outputs": [
    {
     "data": {
      "text/plain": [
       "'TECHEDU4'"
      ]
     },
     "execution_count": 85,
     "metadata": {},
     "output_type": "execute_result"
    }
   ],
   "source": [
    "a+'4'"
   ]
  },
  {
   "cell_type": "code",
   "execution_count": 86,
   "id": "e61ca982",
   "metadata": {},
   "outputs": [
    {
     "data": {
      "text/plain": [
       "'4TECHEDU'"
      ]
     },
     "execution_count": 86,
     "metadata": {},
     "output_type": "execute_result"
    }
   ],
   "source": [
    "'4'+a"
   ]
  },
  {
   "cell_type": "code",
   "execution_count": 87,
   "id": "7ef2d53b",
   "metadata": {},
   "outputs": [
    {
     "data": {
      "text/plain": [
       "'TECHEDU'"
      ]
     },
     "execution_count": 87,
     "metadata": {},
     "output_type": "execute_result"
    }
   ],
   "source": [
    "a"
   ]
  },
  {
   "cell_type": "code",
   "execution_count": 92,
   "id": "e5cd49b2",
   "metadata": {},
   "outputs": [
    {
     "data": {
      "text/plain": [
       "'TEC4EDU'"
      ]
     },
     "execution_count": 92,
     "metadata": {},
     "output_type": "execute_result"
    }
   ],
   "source": [
    "a[0:3]+'4'+a[4:]"
   ]
  },
  {
   "cell_type": "code",
   "execution_count": null,
   "id": "023ae8d5",
   "metadata": {},
   "outputs": [],
   "source": [
    "T1C2E3U #reversed.\n"
   ]
  },
  {
   "cell_type": "code",
   "execution_count": 35,
   "id": "c9da0851",
   "metadata": {},
   "outputs": [],
   "source": [
    "a ='T1C2E3U'"
   ]
  },
  {
   "cell_type": "code",
   "execution_count": 40,
   "id": "45ebeac2",
   "metadata": {},
   "outputs": [
    {
     "data": {
      "text/plain": [
       "'UECT'"
      ]
     },
     "execution_count": 40,
     "metadata": {},
     "output_type": "execute_result"
    }
   ],
   "source": [
    "a[::-2]"
   ]
  },
  {
   "cell_type": "code",
   "execution_count": 37,
   "id": "b9189dd9",
   "metadata": {},
   "outputs": [
    {
     "data": {
      "text/plain": [
       "'TCEU'"
      ]
     },
     "execution_count": 37,
     "metadata": {},
     "output_type": "execute_result"
    }
   ],
   "source": [
    "a[0::2]"
   ]
  },
  {
   "cell_type": "code",
   "execution_count": 38,
   "id": "72aaa5f9",
   "metadata": {},
   "outputs": [
    {
     "data": {
      "text/plain": [
       "'123'"
      ]
     },
     "execution_count": 38,
     "metadata": {},
     "output_type": "execute_result"
    }
   ],
   "source": [
    "a[1::2]"
   ]
  },
  {
   "cell_type": "code",
   "execution_count": 39,
   "id": "de85bcc9",
   "metadata": {},
   "outputs": [
    {
     "data": {
      "text/plain": [
       "'123TCEU'"
      ]
     },
     "execution_count": 39,
     "metadata": {},
     "output_type": "execute_result"
    }
   ],
   "source": [
    "a[1::2] + a[0::2]"
   ]
  },
  {
   "cell_type": "code",
   "execution_count": 44,
   "id": "0b9f1738",
   "metadata": {},
   "outputs": [
    {
     "data": {
      "text/plain": [
       "'UDEH'"
      ]
     },
     "execution_count": 44,
     "metadata": {},
     "output_type": "execute_result"
    }
   ],
   "source": [
    "a = 'TECHEDU'\n",
    "a[6:2:-1]"
   ]
  },
  {
   "cell_type": "markdown",
   "id": "30d7858e",
   "metadata": {},
   "source": [
    "## List"
   ]
  },
  {
   "cell_type": "code",
   "execution_count": 53,
   "id": "1cf1ba46",
   "metadata": {},
   "outputs": [],
   "source": [
    "vowels = ['a','e','i','o','u',1,2,0.25,4+2j, False]"
   ]
  },
  {
   "cell_type": "code",
   "execution_count": 57,
   "id": "b0d74132",
   "metadata": {},
   "outputs": [
    {
     "data": {
      "text/plain": [
       "[False, (4+2j), 0.25, 2, 1, 'u', 'o', 'i', 'e', 'a']"
      ]
     },
     "execution_count": 57,
     "metadata": {},
     "output_type": "execute_result"
    }
   ],
   "source": [
    "vowels[::-1]"
   ]
  },
  {
   "cell_type": "code",
   "execution_count": 58,
   "id": "c9c418e8",
   "metadata": {},
   "outputs": [],
   "source": [
    "vowels.append('2')"
   ]
  },
  {
   "cell_type": "code",
   "execution_count": 59,
   "id": "f712d723",
   "metadata": {},
   "outputs": [
    {
     "data": {
      "text/plain": [
       "['a', 'e', 'i', 'o', 'u', 1, 2, 0.25, (4+2j), False, '2']"
      ]
     },
     "execution_count": 59,
     "metadata": {},
     "output_type": "execute_result"
    }
   ],
   "source": [
    "vowels"
   ]
  },
  {
   "cell_type": "code",
   "execution_count": 60,
   "id": "d6fe8f50",
   "metadata": {},
   "outputs": [],
   "source": [
    "vowels.clear()"
   ]
  },
  {
   "cell_type": "code",
   "execution_count": 61,
   "id": "cb6f3928",
   "metadata": {},
   "outputs": [
    {
     "data": {
      "text/plain": [
       "[]"
      ]
     },
     "execution_count": 61,
     "metadata": {},
     "output_type": "execute_result"
    }
   ],
   "source": [
    "vowels"
   ]
  },
  {
   "cell_type": "code",
   "execution_count": 69,
   "id": "d5f57fba",
   "metadata": {},
   "outputs": [],
   "source": [
    "a = [1,2,3,1.2,1]"
   ]
  },
  {
   "cell_type": "code",
   "execution_count": 70,
   "id": "19eeba95",
   "metadata": {},
   "outputs": [],
   "source": [
    "b = a.copy()"
   ]
  },
  {
   "cell_type": "code",
   "execution_count": 71,
   "id": "7f082694",
   "metadata": {},
   "outputs": [
    {
     "data": {
      "text/plain": [
       "[1, 2, 3, 1.2, 1]"
      ]
     },
     "execution_count": 71,
     "metadata": {},
     "output_type": "execute_result"
    }
   ],
   "source": [
    "b"
   ]
  },
  {
   "cell_type": "code",
   "execution_count": 72,
   "id": "090b0296",
   "metadata": {},
   "outputs": [
    {
     "data": {
      "text/plain": [
       "5"
      ]
     },
     "execution_count": 72,
     "metadata": {},
     "output_type": "execute_result"
    }
   ],
   "source": [
    "len(b)"
   ]
  },
  {
   "cell_type": "code",
   "execution_count": 73,
   "id": "c01c119c",
   "metadata": {},
   "outputs": [
    {
     "data": {
      "text/plain": [
       "2"
      ]
     },
     "execution_count": 73,
     "metadata": {},
     "output_type": "execute_result"
    }
   ],
   "source": [
    "b.count(1)"
   ]
  },
  {
   "cell_type": "code",
   "execution_count": 78,
   "id": "b173370f",
   "metadata": {},
   "outputs": [],
   "source": [
    "b.insert(1,0) # list_name.insert(index,value)\n",
    "\n",
    "#the index number must be less than the lenghth of the list"
   ]
  },
  {
   "cell_type": "code",
   "execution_count": 79,
   "id": "3784fb99",
   "metadata": {},
   "outputs": [
    {
     "data": {
      "text/plain": [
       "1"
      ]
     },
     "execution_count": 79,
     "metadata": {},
     "output_type": "execute_result"
    }
   ],
   "source": [
    "b.pop(0)"
   ]
  },
  {
   "cell_type": "code",
   "execution_count": 84,
   "id": "5e05ce14",
   "metadata": {},
   "outputs": [
    {
     "data": {
      "text/plain": [
       "'a'"
      ]
     },
     "execution_count": 84,
     "metadata": {},
     "output_type": "execute_result"
    }
   ],
   "source": [
    "b = ['a','b','c']\n",
    "\n",
    "b.pop(0) #list_name.pop(index_position)"
   ]
  },
  {
   "cell_type": "code",
   "execution_count": 85,
   "id": "4d980a95",
   "metadata": {},
   "outputs": [
    {
     "data": {
      "text/plain": [
       "['b', 'c']"
      ]
     },
     "execution_count": 85,
     "metadata": {},
     "output_type": "execute_result"
    }
   ],
   "source": [
    "b"
   ]
  },
  {
   "cell_type": "code",
   "execution_count": 90,
   "id": "914590d1",
   "metadata": {},
   "outputs": [],
   "source": [
    "a = [[1,2,3],[4,5,6]] #array"
   ]
  },
  {
   "cell_type": "code",
   "execution_count": 92,
   "id": "f4451b5b",
   "metadata": {},
   "outputs": [],
   "source": [
    "b.append('d')"
   ]
  },
  {
   "cell_type": "code",
   "execution_count": 93,
   "id": "ebba98ac",
   "metadata": {},
   "outputs": [
    {
     "data": {
      "text/plain": [
       "['b', 'c', 'd']"
      ]
     },
     "execution_count": 93,
     "metadata": {},
     "output_type": "execute_result"
    }
   ],
   "source": [
    "b"
   ]
  },
  {
   "cell_type": "code",
   "execution_count": 94,
   "id": "6d256114",
   "metadata": {},
   "outputs": [],
   "source": [
    "b.remove('d')"
   ]
  },
  {
   "cell_type": "code",
   "execution_count": 95,
   "id": "b0839644",
   "metadata": {},
   "outputs": [
    {
     "data": {
      "text/plain": [
       "['b', 'c']"
      ]
     },
     "execution_count": 95,
     "metadata": {},
     "output_type": "execute_result"
    }
   ],
   "source": [
    "b"
   ]
  },
  {
   "cell_type": "code",
   "execution_count": 96,
   "id": "454014f7",
   "metadata": {},
   "outputs": [
    {
     "data": {
      "text/plain": [
       "[[1, 2, 3], [4, 5, 6]]"
      ]
     },
     "execution_count": 96,
     "metadata": {},
     "output_type": "execute_result"
    }
   ],
   "source": [
    "a"
   ]
  },
  {
   "cell_type": "code",
   "execution_count": 97,
   "id": "e9533606",
   "metadata": {},
   "outputs": [
    {
     "data": {
      "text/plain": [
       "['b', 'c']"
      ]
     },
     "execution_count": 97,
     "metadata": {},
     "output_type": "execute_result"
    }
   ],
   "source": [
    "b"
   ]
  },
  {
   "cell_type": "code",
   "execution_count": 98,
   "id": "3056ee1e",
   "metadata": {},
   "outputs": [
    {
     "data": {
      "text/plain": [
       "[[1, 2, 3], [4, 5, 6], 'b', 'c']"
      ]
     },
     "execution_count": 98,
     "metadata": {},
     "output_type": "execute_result"
    }
   ],
   "source": [
    "a+b"
   ]
  },
  {
   "cell_type": "code",
   "execution_count": 103,
   "id": "2aa84365",
   "metadata": {},
   "outputs": [
    {
     "data": {
      "text/plain": [
       "['b',\n",
       " 'c',\n",
       " [1, 2, 3],\n",
       " [4, 5, 6],\n",
       " 'b',\n",
       " 'c',\n",
       " [1, 2, 3],\n",
       " [4, 5, 6],\n",
       " 'b',\n",
       " 'c',\n",
       " [1, 2, 3],\n",
       " [4, 5, 6]]"
      ]
     },
     "execution_count": 103,
     "metadata": {},
     "output_type": "execute_result"
    }
   ],
   "source": [
    "(b + a)*3"
   ]
  },
  {
   "cell_type": "code",
   "execution_count": 107,
   "id": "6d2e96d9",
   "metadata": {},
   "outputs": [
    {
     "data": {
      "text/plain": [
       "[78, 4578, 96]"
      ]
     },
     "execution_count": 107,
     "metadata": {},
     "output_type": "execute_result"
    }
   ],
   "source": [
    "statement = [100,12,45,78,78,4578,96]\n",
    "statement[-3:]"
   ]
  },
  {
   "cell_type": "code",
   "execution_count": 108,
   "id": "ccead281",
   "metadata": {},
   "outputs": [
    {
     "data": {
      "text/plain": [
       "['b', 'c']"
      ]
     },
     "execution_count": 108,
     "metadata": {},
     "output_type": "execute_result"
    }
   ],
   "source": [
    "b"
   ]
  },
  {
   "cell_type": "code",
   "execution_count": 111,
   "id": "35834ee9",
   "metadata": {},
   "outputs": [
    {
     "data": {
      "text/plain": [
       "False"
      ]
     },
     "execution_count": 111,
     "metadata": {},
     "output_type": "execute_result"
    }
   ],
   "source": [
    "string = []\n",
    "integer = []a"
   ]
  },
  {
   "cell_type": "code",
   "execution_count": 115,
   "id": "49cf157f",
   "metadata": {},
   "outputs": [
    {
     "ename": "IndexError",
     "evalue": "pop index out of range",
     "output_type": "error",
     "traceback": [
      "\u001b[1;31m---------------------------------------------------------------------------\u001b[0m",
      "\u001b[1;31mIndexError\u001b[0m                                Traceback (most recent call last)",
      "Input \u001b[1;32mIn [115]\u001b[0m, in \u001b[0;36m<module>\u001b[1;34m\u001b[0m\n\u001b[0;32m      6\u001b[0m \u001b[38;5;28mlen\u001b[39m(a)\n\u001b[0;32m      7\u001b[0m a\u001b[38;5;241m.\u001b[39minsert(\u001b[38;5;241m2\u001b[39m,\u001b[38;5;124m\"\u001b[39m\u001b[38;5;124mg\u001b[39m\u001b[38;5;124m\"\u001b[39m)\n\u001b[1;32m----> 8\u001b[0m \u001b[43ma\u001b[49m\u001b[38;5;241;43m.\u001b[39;49m\u001b[43mpop\u001b[49m\u001b[43m(\u001b[49m\u001b[38;5;241;43m3\u001b[39;49m\u001b[43m)\u001b[49m\n\u001b[0;32m      9\u001b[0m a\u001b[38;5;241m.\u001b[39mremove(\u001b[38;5;241m1\u001b[39m)\n\u001b[0;32m     10\u001b[0m a[::\u001b[38;5;241m-\u001b[39m\u001b[38;5;241m1\u001b[39m]\n",
      "\u001b[1;31mIndexError\u001b[0m: pop index out of range"
     ]
    }
   ],
   "source": [
    "a=[1,0.5,1+5j,\"a\",False]\n",
    "a.append(\"d\")\n",
    "a.clear()\n",
    "\n",
    "a.count(a)\n",
    "len(a)\n",
    "a.insert(2,\"g\")\n",
    "a.pop(3)\n",
    "a.remove(1)\n",
    "a[::-1]\n",
    "a[1:3]\n",
    "a[:2:1]\n",
    "a[2:4:2]\n",
    "a[-5:]\n",
    "a.pop(3)\n",
    "string=a.copy()\n",
    "a.pop(0)\n",
    "int=a.copy()\n",
    "a.pop(2)\n",
    "complex=a.copy()\n",
    "a.pop(1)\n",
    "float=a.copy()\n",
    "a.pop(4)\n",
    "bool=a.copy()"
   ]
  },
  {
   "cell_type": "code",
   "execution_count": 116,
   "id": "737f26bd",
   "metadata": {},
   "outputs": [
    {
     "data": {
      "text/plain": [
       "['g']"
      ]
     },
     "execution_count": 116,
     "metadata": {},
     "output_type": "execute_result"
    }
   ],
   "source": [
    "a"
   ]
  },
  {
   "cell_type": "code",
   "execution_count": 117,
   "id": "15108fa0",
   "metadata": {},
   "outputs": [],
   "source": [
    "a = ['z',True,45.9,48,20+4j]"
   ]
  },
  {
   "cell_type": "code",
   "execution_count": 118,
   "id": "60c96c22",
   "metadata": {},
   "outputs": [],
   "source": [
    "a.append(2)"
   ]
  },
  {
   "cell_type": "code",
   "execution_count": 119,
   "id": "8539a949",
   "metadata": {},
   "outputs": [
    {
     "data": {
      "text/plain": [
       "['z', True, 45.9, 48, (20+4j), 2]"
      ]
     },
     "execution_count": 119,
     "metadata": {},
     "output_type": "execute_result"
    }
   ],
   "source": [
    "a"
   ]
  },
  {
   "cell_type": "code",
   "execution_count": 120,
   "id": "76614227",
   "metadata": {},
   "outputs": [],
   "source": [
    "b = a.copy()"
   ]
  },
  {
   "cell_type": "code",
   "execution_count": 121,
   "id": "b19f2780",
   "metadata": {},
   "outputs": [
    {
     "data": {
      "text/plain": [
       "['z', True, 45.9, 48, (20+4j), 2]"
      ]
     },
     "execution_count": 121,
     "metadata": {},
     "output_type": "execute_result"
    }
   ],
   "source": [
    "b"
   ]
  },
  {
   "cell_type": "code",
   "execution_count": 122,
   "id": "7ab14ad7",
   "metadata": {},
   "outputs": [],
   "source": [
    "b.clear()"
   ]
  },
  {
   "cell_type": "code",
   "execution_count": 124,
   "id": "576eab3f",
   "metadata": {},
   "outputs": [],
   "source": [
    "a.append(2)"
   ]
  },
  {
   "cell_type": "code",
   "execution_count": 125,
   "id": "c2236c7e",
   "metadata": {},
   "outputs": [
    {
     "data": {
      "text/plain": [
       "['z', True, 45.9, 48, (20+4j), 2, 2]"
      ]
     },
     "execution_count": 125,
     "metadata": {},
     "output_type": "execute_result"
    }
   ],
   "source": [
    "a"
   ]
  },
  {
   "cell_type": "code",
   "execution_count": 126,
   "id": "a6c9ae75",
   "metadata": {},
   "outputs": [
    {
     "data": {
      "text/plain": [
       "2"
      ]
     },
     "execution_count": 126,
     "metadata": {},
     "output_type": "execute_result"
    }
   ],
   "source": [
    "a.count(2)"
   ]
  },
  {
   "cell_type": "code",
   "execution_count": 127,
   "id": "09327e7c",
   "metadata": {},
   "outputs": [
    {
     "data": {
      "text/plain": [
       "7"
      ]
     },
     "execution_count": 127,
     "metadata": {},
     "output_type": "execute_result"
    }
   ],
   "source": [
    "len(a)"
   ]
  },
  {
   "cell_type": "code",
   "execution_count": 128,
   "id": "03346779",
   "metadata": {},
   "outputs": [],
   "source": [
    "a.insert(1,'Techedu')"
   ]
  },
  {
   "cell_type": "code",
   "execution_count": 129,
   "id": "6018df56",
   "metadata": {},
   "outputs": [
    {
     "data": {
      "text/plain": [
       "['z', 'Techedu', True, 45.9, 48, (20+4j), 2, 2]"
      ]
     },
     "execution_count": 129,
     "metadata": {},
     "output_type": "execute_result"
    }
   ],
   "source": [
    "a"
   ]
  },
  {
   "cell_type": "code",
   "execution_count": 130,
   "id": "c1934586",
   "metadata": {},
   "outputs": [
    {
     "data": {
      "text/plain": [
       "'Techedu'"
      ]
     },
     "execution_count": 130,
     "metadata": {},
     "output_type": "execute_result"
    }
   ],
   "source": [
    "a.pop(1)"
   ]
  },
  {
   "cell_type": "code",
   "execution_count": 131,
   "id": "77297f3c",
   "metadata": {},
   "outputs": [
    {
     "data": {
      "text/plain": [
       "['z', True, 45.9, 48, (20+4j), 2, 2]"
      ]
     },
     "execution_count": 131,
     "metadata": {},
     "output_type": "execute_result"
    }
   ],
   "source": [
    "a"
   ]
  },
  {
   "cell_type": "code",
   "execution_count": 132,
   "id": "8898db3e",
   "metadata": {},
   "outputs": [],
   "source": [
    "a.remove(2)"
   ]
  },
  {
   "cell_type": "code",
   "execution_count": 133,
   "id": "0bbac9cf",
   "metadata": {},
   "outputs": [
    {
     "data": {
      "text/plain": [
       "['z', True, 45.9, 48, (20+4j), 2]"
      ]
     },
     "execution_count": 133,
     "metadata": {},
     "output_type": "execute_result"
    }
   ],
   "source": [
    "a"
   ]
  },
  {
   "cell_type": "code",
   "execution_count": 135,
   "id": "3c811ed8",
   "metadata": {},
   "outputs": [
    {
     "data": {
      "text/plain": [
       "[2, (20+4j), 48, 45.9, True, 'z']"
      ]
     },
     "execution_count": 135,
     "metadata": {},
     "output_type": "execute_result"
    }
   ],
   "source": [
    "a[::-1]"
   ]
  },
  {
   "cell_type": "code",
   "execution_count": 136,
   "id": "dc121124",
   "metadata": {},
   "outputs": [
    {
     "data": {
      "text/plain": [
       "['z', True]"
      ]
     },
     "execution_count": 136,
     "metadata": {},
     "output_type": "execute_result"
    }
   ],
   "source": [
    "a[:2]"
   ]
  },
  {
   "cell_type": "code",
   "execution_count": 137,
   "id": "e22a7d48",
   "metadata": {},
   "outputs": [
    {
     "data": {
      "text/plain": [
       "['z', True, 45.9, 48]"
      ]
     },
     "execution_count": 137,
     "metadata": {},
     "output_type": "execute_result"
    }
   ],
   "source": [
    "a[0:4]"
   ]
  },
  {
   "cell_type": "code",
   "execution_count": 138,
   "id": "89e5ede2",
   "metadata": {},
   "outputs": [
    {
     "data": {
      "text/plain": [
       "[2, 48, True]"
      ]
     },
     "execution_count": 138,
     "metadata": {},
     "output_type": "execute_result"
    }
   ],
   "source": [
    "a[::-2]"
   ]
  },
  {
   "cell_type": "code",
   "execution_count": 141,
   "id": "4eff9b6f",
   "metadata": {},
   "outputs": [
    {
     "data": {
      "text/plain": [
       "['om,9,8']"
      ]
     },
     "execution_count": 141,
     "metadata": {},
     "output_type": "execute_result"
    }
   ],
   "source": [
    "a"
   ]
  },
  {
   "cell_type": "code",
   "execution_count": 145,
   "id": "04703fd9",
   "metadata": {},
   "outputs": [],
   "source": [
    "a.extend(['a','b'])"
   ]
  },
  {
   "cell_type": "code",
   "execution_count": 146,
   "id": "62f5ae68",
   "metadata": {},
   "outputs": [
    {
     "data": {
      "text/plain": [
       "['om,9,8', 'U', 'p', 's', 'k', 'i', 'l', 'l', 'i', 'n', 'g', 'a', 'b']"
      ]
     },
     "execution_count": 146,
     "metadata": {},
     "output_type": "execute_result"
    }
   ],
   "source": [
    "a"
   ]
  },
  {
   "cell_type": "code",
   "execution_count": 147,
   "id": "c18d46a3",
   "metadata": {},
   "outputs": [],
   "source": [
    "a = [8,4,8,9,2,1,0]"
   ]
  },
  {
   "cell_type": "code",
   "execution_count": 148,
   "id": "6cd3fe85",
   "metadata": {},
   "outputs": [],
   "source": [
    "a.sort()"
   ]
  },
  {
   "cell_type": "code",
   "execution_count": 150,
   "id": "eac258ea",
   "metadata": {},
   "outputs": [
    {
     "data": {
      "text/plain": [
       "[9, 8, 8, 4, 2, 1, 0]"
      ]
     },
     "execution_count": 150,
     "metadata": {},
     "output_type": "execute_result"
    }
   ],
   "source": [
    "a[::-1]"
   ]
  },
  {
   "cell_type": "code",
   "execution_count": 1,
   "id": "8a768816",
   "metadata": {},
   "outputs": [],
   "source": [
    "#separating Integers, Float,String and Boolean\n",
    "\n",
    "l = [12,10.2,'Mohanish',True, 2+2j]"
   ]
  },
  {
   "cell_type": "code",
   "execution_count": 3,
   "id": "c58faa2b",
   "metadata": {},
   "outputs": [
    {
     "data": {
      "text/plain": [
       "[12]"
      ]
     },
     "execution_count": 3,
     "metadata": {},
     "output_type": "execute_result"
    }
   ],
   "source": [
    "integer = []\n",
    "integer.append(l[0])\n",
    "integer"
   ]
  },
  {
   "cell_type": "code",
   "execution_count": 5,
   "id": "f7b17764",
   "metadata": {},
   "outputs": [
    {
     "data": {
      "text/plain": [
       "[10.2]"
      ]
     },
     "execution_count": 5,
     "metadata": {},
     "output_type": "execute_result"
    }
   ],
   "source": [
    "flo = []\n",
    "flo.append(l[1])\n",
    "flo"
   ]
  },
  {
   "cell_type": "code",
   "execution_count": 6,
   "id": "feae7475",
   "metadata": {},
   "outputs": [
    {
     "data": {
      "text/plain": [
       "['Mohanish']"
      ]
     },
     "execution_count": 6,
     "metadata": {},
     "output_type": "execute_result"
    }
   ],
   "source": [
    "string = []\n",
    "string.append(l[2])\n",
    "string"
   ]
  }
 ],
 "metadata": {
  "kernelspec": {
   "display_name": "Python 3 (ipykernel)",
   "language": "python",
   "name": "python3"
  },
  "language_info": {
   "codemirror_mode": {
    "name": "ipython",
    "version": 3
   },
   "file_extension": ".py",
   "mimetype": "text/x-python",
   "name": "python",
   "nbconvert_exporter": "python",
   "pygments_lexer": "ipython3",
   "version": "3.8.0"
  }
 },
 "nbformat": 4,
 "nbformat_minor": 5
}
